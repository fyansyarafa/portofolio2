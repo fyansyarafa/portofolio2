{
 "cells": [
  {
   "cell_type": "markdown",
   "metadata": {
    "Collapsed": "false"
   },
   "source": [
    "# Credit Risk dan Model Prediksi"
   ]
  },
  {
   "cell_type": "markdown",
   "metadata": {
    "Collapsed": "false"
   },
   "source": [
    "## Pendahuluan\n",
    "\n",
    "*Credit risk* adalah resiko yang harus ditanggung oleh seorang individu atau lembaga ketika memberikan pinjaman - biasanya dalam bentuk uang - ke individu atau pihak lain.\n",
    "\n",
    "Resiko ini berupa tidak bisa dibayarkannya pokok dan bunga pinjaman, sehingga mengakibatkan kerugian berikut:\n",
    "\n",
    "- gangguan aliran kas (*cash flow*) sehingga modal kerja terganggu.\n",
    "- meningkatkan biaya operasional untuk mengejar pembayaran tersebut (*collection*).\n",
    "\n",
    "Untuk memperkecil resiko kredit ini, biasanya dilakukan proses yang disebut dengan *credit scorin*g dan *credit rating* terhadap pihak peminjam. Output proses ini akan menjadi basis untuk menentukan apakah aplikasi pengajuan pinjaman baru diterima atau ditolak."
   ]
  },
  {
   "cell_type": "markdown",
   "metadata": {
    "Collapsed": "false"
   },
   "source": [
    "## Credit Score\n",
    "\n",
    "*Credit score* adalah nilai resiko yang diberikan kepada seorang individu atau organisasi yang mengajukan pinjaman berdasarkan rekam jejak pinjaman dan pembayaran yang dilakukan. Proses pemberian *credit score* ini biasanya disebut sebagai *credit scoring*.\n",
    "\n",
    "Perhitungan *credit score* biasanya dibuat berdasarkan data historis lamanya keterlambatan pembayaran dan yang tidak bayar sama sekali (*bad debt*). *Bad debt* biasanya mengakibatkan lembaga pemberian kredit harus menyita aset atau melakukan *write off* .\n",
    "\n",
    "Nilai *credit score* biasanya bervariasi antar lembaga. Namun banyak yang kemudian mengadopsi model FICO Score yang memiliki rentang nilai 300 - 850. Semakin tinggi nilai yang didapatkan, maka semakin baik tingkat kemampuan seseorang atau sebuah lembaga untuk membayar pinjaman."
   ]
  },
  {
   "cell_type": "markdown",
   "metadata": {
    "Collapsed": "false"
   },
   "source": [
    "## Risk Rating\n",
    "\n",
    "Kadang banyak lembaga yang menggunakan *risk rating* atau *tingkat resiko*. Terbalik dengan credit score, semakin tinggi rating ini menunjukkan resiko yang semakin meningkat.\n",
    "\n",
    "Selain itu kodifikasi juga dibuat lebih simpel  dibandingkan rentang nilai sehingga keputusan yang bisa diambil lebih cepat. Contoh, misalkan penggunaan kombinasi seperti huruf AAA,  AA+, P-1, dan seterusnya. Atau  untuk banyak internal lembaga peminjam, kategorisasi hanya menggunakan rentang angka yang kecil misalkan 1 sampai dengan 5.\n",
    "\n",
    "Mari kita lihat contoh data risk rating dengan pendekatan terakhir ini pada subbab berikutnya."
   ]
  },
  {
   "cell_type": "markdown",
   "metadata": {
    "Collapsed": "false"
   },
   "source": [
    "## Contoh Tabel Risk Rating\n",
    "\n",
    "Berikut adalah contoh data risk rating yang dihasilkan berdasarkan data historis lamanya proses pengembalian pinjaman. Perhatikan kolom risk_rating  dimana terdapat angka 1 sampai dengan 5 - yang menunjukkan resiko terendah sampai tertinggi.\n",
    "\n",
    "<img src=\"c.jpg\">\n",
    "\n",
    "Selengkapnya, dataset ini bisa Anda download di https://academy.dqlab.id/dataset/credit_scoring_dqlab.xlsx.\n",
    "\n",
    "Kolom **risk_rating** ini berelasi langsung dengan kolom **overdue_average**, atau kolom keterlambatan pembayaran.\n",
    "\n",
    "- Jika keterlambatan sampai dengan 30 hari (0 - 30 days) maka diberikan nilai 1.\n",
    "- keterlambatan 31 sampai dengan 45 hari (31 - 45 days) maka scoring diberikan nilai 2.\n",
    "- dan seterusnya\n",
    "\n",
    "Dari sini juga beberapa kolom juga diambil oleh analis untuk mencari pola keterkaitannya terhadap rating ini, yaitu:\n",
    "\n",
    "- pendapatan dalam jutaan per tahun (pendapatan_setahun_juta).\n",
    "- durasi pinjaman dalam satuan bulan (durasi_pinjaman_bulan).\n",
    "- jumlah tanggungan (jumlah_tanggungan).\n",
    "- apakah ada kpr aktif atau tidak (kpr_aktif)."
   ]
  },
  {
   "cell_type": "markdown",
   "metadata": {
    "Collapsed": "false"
   },
   "source": [
    "## Analisa dan Model Pengambilan Keputusan\n",
    "\n",
    "Masih terkait dengan contoh data sebelumnya, namun dengan contoh data utuh - DQLab akan memberikan ilustrasi aktivitas tindak lanjut terhadap data dengan contoh skenario berikut.\n",
    "\n",
    "Seorang analis akan melakukan penelusuran terhadap data kita untuk mencari pola. Berikut adalah temuannya: \n",
    "\n",
    "- Jika jumlah tanggungan berjumlah lebih dari 4, kecenderungan resikonya sangat tinggi (rating 4 dan 5).\n",
    "- Jika durasi pinjaman semakin lama yaitu lebih dari 24 bulan, maka kecenderungan resiko juga meningkat (rating 4 dan 5).\n",
    "\n",
    "Dari kedua temuan ini, analis akan membentuk aturan-aturan untuk menuntun pengambilan keputusan (decision making model) terhadap pengajuan pinjaman baru untuk sebagai berikut:\n",
    "\n",
    "- Jika jumlah tanggungan berjumlah kurang dari 5 orang , dan durasi pinjaman kurang dari 24 bulan maka rating diberikan nilai 2 dan pengajuan pinjaman diterima. \n",
    "- Jika jumlah tanggungan berjumlah lebih dari 4 orang dan durasi pinjaman lebih dari 24 bulan maka maka rating diberikan nilai 5 dan pengajuan pinjaman ditolak.\n",
    "- Jika jumlah tanggungan berjumlah kurang dari 5, dan durasi pinjaman kurang dari 36 bulan maka maka rating diberikan nilai 3 dan diberikan pinjaman. \n",
    "\n",
    "Nah, tiga aturan itu kita sebut sebagai **model** untuk memprediksi nilai risk rating dan menjadi basis pengambilan keputusan terhadap aplikasi pinjaman baru.\n",
    "\n",
    "Dengan model ini, lembaga pinjaman akan semakin cepat mengambil keputusan dan dengan tingkat kesalahan pengambilan keputusan yang lebih minim."
   ]
  },
  {
   "cell_type": "markdown",
   "metadata": {
    "Collapsed": "false"
   },
   "source": [
    "## Kesimpulan\n",
    "\n",
    "*Credit risk* adalah resiko yang harus ditanggung oleh seorang individu atau lembaga ketika memberikan pinjaman - biasanya dalam bentuk uang - ke individu atau pihak lain.\n",
    "\n",
    "Resiko ini berupa tidak bisa dibayarkannya pokok dan bunga pinjaman, sehingga mengakibatkan kerugian berikut:\n",
    "\n",
    "- gangguan aliran kas (cash flow) sehingga modal kerja terganggu.\n",
    "- meningkatkan biaya operasional untuk mengejar pembayaran tersebut (collection).\n",
    "\n",
    "*Credit score* dan *risk rating* adalah dua penilaian yang dilakukan meminimalkan resiko dari pihak pemberi kredit. Karena berdasarkan kedua model penilaian tersebut, akan diputuskan apakah aplikasi peminjaman seseorang disetujui atau ditolak.\n",
    "\n",
    "Pada subbab berikutnya, kita akan melihat bagaimana model penilaian ini distrukturkan dalam bentuk **decision tree**."
   ]
  },
  {
   "cell_type": "markdown",
   "metadata": {
    "Collapsed": "false"
   },
   "source": [
    "# Decision Tree"
   ]
  },
  {
   "cell_type": "markdown",
   "metadata": {
    "Collapsed": "false"
   },
   "source": [
    "## Decision Tree\n",
    "\n",
    "Pada bab sebelumnya telah disebutkan sedikit mengenai proses pengambilan keputusan dengan konstruksi rangkaian \"Jika kondisi x maka .... selain itu .... \" atau dikenal dengan \"IF ... ELSE ... \".\n",
    "\n",
    "Dari contoh bab satu, rangkaiannya terlihat sebagai berikut:\n",
    "\n",
    "- Jika jumlah tanggungan berjumlah kurang dari 2 orang , dan durasi pinjaman kurang dari 42 bulan maka rating diberikan nilai 1 dan pengajuan pinjaman diterima. \n",
    "- Jika jumlah tanggungan berjumlah lebih dari 4 orang dan durasi pinjaman lebih dari 30 bulan maka maka rating diberikan nilai 5 dan pengajuan pinjaman ditolak.\n",
    "- Jika jumlah tanggungan berjumlah kurang dari 5, dan durasi pinjaman kurang dari 30 bulan maka maka rating diberikan nilai 3 dan diberikan pinjaman. \n",
    "\n",
    "Nah, rangkaian ini sebenarnya bisa dimodelkan kembali dengan apa yang dinamakan struktur pohon keputusan atau decision tree, seperti ditampilkan secara visual sebagai berikut.\n",
    "\n",
    "<img src='d3.png'>\n",
    "\n",
    "Disini, proses pengambilan keputusan adalah melihat dari kondisi paling atas, yaitu berapa jumlah tanggungan. Jika tanggungannya berjumlah 3 atau 4 maka akan langsung ke kotak bawah paling kanan yang menunjukkan rating 3.\n",
    "\n",
    "Dan kalau kita telusuri lagi, untuk jumlah tanggungan 5 dan durasi pinjaman kurang dari 30 maka akan masuk ke rating nilai 4. Lebih mudah dan cepat dimengerti, bukan?\n",
    "\n",
    "Mari kita melangkah ke subbab berikutnya untuk melihat komponen dari decision tree."
   ]
  },
  {
   "cell_type": "markdown",
   "metadata": {
    "Collapsed": "false"
   },
   "source": [
    "## Komponen Decision Tree\n",
    "\n",
    "<img src='t.png'>\n",
    "\n",
    "Berikut adalah komponen dari decision tree:\n",
    "\n",
    "- **Node**: diwakili oleh 1, 3 dan 4.\n",
    "- **Branch** (cabang) atau **split** (pemisah): diwakili oleh 2.\n",
    "- **Root node**: atau node akar, diwakili oleh 3.\n",
    "- **Leaf node**: atau node daun, diwakili oleh 4.\n",
    "\n",
    "Mengerti komponen-komponen ini sangat penting untuk nanti memahami output dari algoritma machine learning yang digunakan."
   ]
  },
  {
   "cell_type": "markdown",
   "metadata": {
    "Collapsed": "false"
   },
   "source": [
    "## Contoh Pemodelan Decision Tree dengan Machine Learning\n",
    "\n",
    "Mari sekarang kita lihat contoh otomatisasi model decision tree dengan menggunakan salah satu algoritma populer di R, yaitu C5.0. Praktek kali ini kita hanya bertujuan untuk melihat contoh output, detilnya akan dibahas pada bab-bab selanjutnya.\n",
    "\n",
    "Pada code editor telah diberikan contoh code untuk membaca dan menganalisa data credit rating dari file Excel, membentuk model decision tree, dan menampilkan hasilnya dalam bentuk output. Untuk itu kita perlu gunakan package C50 yang akan kita gunakan sepanjang course ini.\n",
    "\n",
    "\n"
   ]
  },
  {
   "cell_type": "code",
   "execution_count": 11,
   "metadata": {
    "Collapsed": "false"
   },
   "outputs": [
    {
     "name": "stderr",
     "output_type": "stream",
     "text": [
      "Warning message:\n",
      "\"package 'C50' was built under R version 3.6.2\""
     ]
    },
    {
     "data": {
      "text/plain": [
       "\n",
       "Call:\n",
       "C5.0.default(x = datafeed, y = as.factor(dataCreditRating$risk_rating))\n",
       "\n",
       "\n",
       "C5.0 [Release 2.07 GPL Edition]  \tSun Jan 26 01:38:01 2020\n",
       "-------------------------------\n",
       "\n",
       "Class specified by attribute `outcome'\n",
       "\n",
       "Read 900 cases (4 attributes) from undefined.data\n",
       "\n",
       "Decision tree:\n",
       "\n",
       "jumlah_tanggungan > 4:\n",
       ":...durasi_pinjaman_bulan <= 24: 4 (112/30)\n",
       ":   durasi_pinjaman_bulan > 24: 5 (140/55)\n",
       "jumlah_tanggungan <= 4:\n",
       ":...jumlah_tanggungan > 2: 3 (246/22)\n",
       "    jumlah_tanggungan <= 2:\n",
       "    :...durasi_pinjaman_bulan <= 36: 1 (294/86)\n",
       "        durasi_pinjaman_bulan > 36:\n",
       "        :...jumlah_tanggungan <= 0: 2 (41/8)\n",
       "            jumlah_tanggungan > 0: 3 (67/4)\n",
       "\n",
       "\n",
       "Evaluation on training data (900 cases):\n",
       "\n",
       "\t    Decision Tree   \n",
       "\t  ----------------  \n",
       "\t  Size      Errors  \n",
       "\n",
       "\t     6  205(22.8%)   <<\n",
       "\n",
       "\n",
       "\t   (a)   (b)   (c)   (d)   (e)    <-classified as\n",
       "\t  ----  ----  ----  ----  ----\n",
       "\t   208     2     5     6     6    (a): class 1\n",
       "\t    86    33    21     6    13    (b): class 2\n",
       "\t           4   287                (c): class 3\n",
       "\t           2          82    36    (d): class 4\n",
       "\t                      18    85    (e): class 5\n",
       "\n",
       "\n",
       "\tAttribute usage:\n",
       "\n",
       "\t100.00%\tjumlah_tanggungan\n",
       "\t 72.67%\tdurasi_pinjaman_bulan\n",
       "\n",
       "\n",
       "Time: 0.0 secs\n"
      ]
     },
     "metadata": {},
     "output_type": "display_data"
    }
   ],
   "source": [
    "library(\"openxlsx\")\n",
    "library(\"C50\")\n",
    "\n",
    "#Mempersiapkan data\n",
    "dataCreditRating <- read.xlsx(xlsxFile = \"https://academy.dqlab.id/dataset/credit_scoring_dqlab.xlsx\")\n",
    "dataCreditRating$risk_rating <- as.factor(dataCreditRating$risk_rating) \n",
    "\n",
    "#Menggunakan C5.0\n",
    "drop_columns <- c(\"kpr_aktif\", \"pendapatan_setahun_juta\", \"risk_rating\", \"rata_rata_overdue\")\n",
    "datafeed <- dataCreditRating[ , !(names(dataCreditRating) %in% drop_columns)]\n",
    "modelKu <- C5.0(datafeed, as.factor(dataCreditRating$risk_rating))\n",
    "summary(modelKu)\n"
   ]
  },
  {
   "cell_type": "markdown",
   "metadata": {
    "Collapsed": "false"
   },
   "source": [
    "Ini adalah bentuk representasi tree dalam bentuk teks. Dimana pengecekan akan dimulai dari variable jumlah_tanggungan. Sebagai contoh, jika jumlah tanggungan lebih dari 4 dan durasi pinjaman sampai dengan maksimal 24 bulan maka rating diberikan nilai 4."
   ]
  },
  {
   "cell_type": "code",
   "execution_count": 10,
   "metadata": {
    "Collapsed": "false"
   },
   "outputs": [
    {
     "name": "stderr",
     "output_type": "stream",
     "text": [
      "also installing the dependencies 'TH.data', 'sandwich', 'matrixStats', 'modeltools', 'multcomp', 'mvtnorm', 'coin'\n",
      "\n"
     ]
    },
    {
     "name": "stdout",
     "output_type": "stream",
     "text": [
      "\n",
      "  There is a binary version available but the source version is later:\n",
      "        binary source needs_compilation\n",
      "mvtnorm 1.0-11 1.0-12              TRUE\n",
      "\n",
      "  Binaries will be installed\n",
      "package 'TH.data' successfully unpacked and MD5 sums checked\n",
      "package 'sandwich' successfully unpacked and MD5 sums checked\n",
      "package 'matrixStats' successfully unpacked and MD5 sums checked\n",
      "package 'modeltools' successfully unpacked and MD5 sums checked\n",
      "package 'multcomp' successfully unpacked and MD5 sums checked\n",
      "package 'mvtnorm' successfully unpacked and MD5 sums checked\n",
      "package 'coin' successfully unpacked and MD5 sums checked\n",
      "package 'libcoin' successfully unpacked and MD5 sums checked\n",
      "\n",
      "The downloaded binary packages are in\n",
      "\tC:\\Users\\User\\AppData\\Local\\Temp\\RtmpEjGfsU\\downloaded_packages\n"
     ]
    },
    {
     "name": "stderr",
     "output_type": "stream",
     "text": [
      "also installing the dependencies 'Formula', 'inum', 'partykit', 'Cubist', 'modeldata'\n",
      "\n"
     ]
    },
    {
     "name": "stdout",
     "output_type": "stream",
     "text": [
      "package 'Formula' successfully unpacked and MD5 sums checked\n",
      "package 'inum' successfully unpacked and MD5 sums checked\n",
      "package 'partykit' successfully unpacked and MD5 sums checked\n",
      "package 'Cubist' successfully unpacked and MD5 sums checked\n",
      "package 'modeldata' successfully unpacked and MD5 sums checked\n",
      "package 'C50' successfully unpacked and MD5 sums checked\n",
      "\n",
      "The downloaded binary packages are in\n",
      "\tC:\\Users\\User\\AppData\\Local\\Temp\\RtmpEjGfsU\\downloaded_packages\n"
     ]
    }
   ],
   "source": [
    "install.packages('libcoin', dependencies = T)\n",
    "install.packages('C50', dependencies = T)"
   ]
  },
  {
   "cell_type": "markdown",
   "metadata": {
    "Collapsed": "false"
   },
   "source": [
    "## Kesimpulan\n",
    "\n",
    "Decision tree adalah struktur model untuk pengambilan keputusan dimana kita mengikuti alur dari suatu titik awal (yang disebut root node), kondisi-kondisi berikutnya, sampai mencapai kesimpulan.\n",
    "\n",
    "Komponen-komponen dari decision tree ini adalah sebagai berikut:\n",
    "\n",
    "- Root node\n",
    "- Branch atau split\n",
    "- Node\n",
    "- Leaf node\n",
    "\n",
    "Ini adalah model output yang cocok dihasilkan para analis untuk membantu mengidentifikasi *risk rating*. Dan beruntungnya, model ini bisa otomatis dihasilkan dari algoritma machine learning dengan input data historis credit. Dan ini telah ditunjukkan dengan contoh menggunakan algoritma bernama C5.0.\n",
    "\n",
    "Bab berikutnya akan membahas mengenai algoritma C5.0 ini. Klik tombol Next untuk melanjutkan.\n",
    "\n"
   ]
  },
  {
   "cell_type": "markdown",
   "metadata": {
    "Collapsed": "false"
   },
   "source": [
    "# Algoritma C5.0\n",
    "\n"
   ]
  },
  {
   "cell_type": "markdown",
   "metadata": {
    "Collapsed": "false"
   },
   "source": [
    "## Apa itu algoritma C5.0?\n",
    "\n",
    "C5.0 adalah kode penamaan suatu algoritma untuk decision tree. Banyak algoritma lain seperti random forest, CART, CHAID, MARS, dan lain-lain. Namun C5.0 adalah algoritma yang sangat populer karena memiliki performa yang sangat baik dari sisi kecepatan maupun akurasi.\n",
    "\n",
    "Algoritma ini sering dikategorikan sebagai **classification**, dimana tujuannya adalah untuk mengkategorikan atau mengklasifikan sesuatu - pada contoh kita risk rating - berdasarkan input dari data-data lain.\n",
    "\n",
    "Pada bab sebelumnya, kita sudah melihat hasil output dari algoritma ini sebagai berikut.\n",
    "\n",
    "Read 900 cases (4 attributes) from undefined.data\n",
    "\n",
    "Decision tree:\n",
    "\n",
    "    jumlah_tanggungan > 4:\n",
    "    :...durasi_pinjaman_bulan <= 24: 4 (112/30)\n",
    "    :   durasi_pinjaman_bulan > 24: 5 (140/55)\n",
    "    jumlah_tanggungan <= 4:\n",
    "    :...jumlah_tanggungan > 2: 3 (246/22)\n",
    "        jumlah_tanggungan <= 2:\n",
    "        :...durasi_pinjaman_bulan <= 36: 1 (294/86)\n",
    "            durasi_pinjaman_bulan > 36:\n",
    "            :...jumlah_tanggungan <= 0: 2 (41/8)\n",
    "                jumlah_tanggungan > 0: 3 (67/4)\n",
    "\n",
    "Sepanjang bab ini dan berikutnya, kita akan fokus melakukan praktek bagaimana menghasilkan model ini, mengerti output-output yang dikeluarkan, dan mengevaluasi akurasi model berdasarkan output tersebut."
   ]
  },
  {
   "cell_type": "markdown",
   "metadata": {
    "Collapsed": "false"
   },
   "source": [
    "## Class and Input Variables\n",
    "\n",
    "Mari kita kembali melihat contoh data kita dari gambar berikut ini dimana tiap header kolom diberi bulatan merah dengan penomoran.\n",
    "\n",
    "<img src ='cc.png'>\n",
    "\n",
    "Tujuan kita sepanjang course ini adalah memprediksi nilai pada kolom *risk rating (7)* berdasarkan data-data lain yang menyertai (1 s/d 6). \n",
    "\n",
    "Dengan demikian, *risk rating* disebut sebagai *class variable*. Kolom-kolom lainnya disebut sebagai *input variables*. Input variables bisa digunakan sebagian saja, namun *class variable* harus selalu digunakan untuk membentuk model. \n",
    "\n",
    "Dan pada algoritma C5.0 di R, ***class variable* harus selalu berupa *factor***. Jadi jika dibaca sebagai tipe data lain, maka harus dikonversi terlebih dahulu menjadi *factor*."
   ]
  },
  {
   "cell_type": "markdown",
   "metadata": {
    "Collapsed": "false"
   },
   "source": [
    "## Data Preparation untuk Class Variable\n",
    "\n",
    "Pada code editor, telah diberikan potongan code untuk membaca dataset kita dari file Excel dan kemudian menganalisa strukturnya. Cobalah jalankan code tersebut, dan perhatikan hasilnya sebagai berikut.\n",
    "\n",
    "\n",
    "Untuk class variable kita, yaitu risk_rating ternyata masih dibaca dalam bentuk numerik. Untuk menjadi class variable yang digunakan pada algoritma C5.0, maka in perlu dikonversi menjadi factor. Ini bisa dilakukan dengan menggunakan perintah berikut.\n",
    "\n",
    "    dataCreditRating$risk_rating <- as.factor(dataCreditRating$risk_rating) \n",
    "\n",
    "Cobalah masukkan perintah ini untuk menggantikan bagian #[...] pada code editor dan"
   ]
  },
  {
   "cell_type": "code",
   "execution_count": 12,
   "metadata": {
    "Collapsed": "false"
   },
   "outputs": [
    {
     "name": "stdout",
     "output_type": "stream",
     "text": [
      "'data.frame':\t900 obs. of  7 variables:\n",
      " $ kode_kontrak           : chr  \"AGR-000001\" \"AGR-000011\" \"AGR-000030\" \"AGR-000043\" ...\n",
      " $ pendapatan_setahun_juta: num  295 271 159 210 165 220 70 88 163 100 ...\n",
      " $ kpr_aktif              : chr  \"YA\" \"YA\" \"TIDAK\" \"YA\" ...\n",
      " $ durasi_pinjaman_bulan  : num  48 36 12 12 36 24 36 48 48 36 ...\n",
      " $ jumlah_tanggungan      : num  5 5 0 3 0 5 3 3 5 6 ...\n",
      " $ rata_rata_overdue      : chr  \"61 - 90 days\" \"61 - 90 days\" \"0 - 30 days\" \"46 - 60 days\" ...\n",
      " $ risk_rating            : num  4 4 1 3 2 1 2 2 2 2 ...\n"
     ]
    }
   ],
   "source": [
    "library(\"openxlsx\")\n",
    "\n",
    "#Mempersiapkan data\n",
    "dataCreditRating <- read.xlsx(xlsxFile = \"https://academy.dqlab.id/dataset/credit_scoring_dqlab.xlsx\")\n",
    "str(dataCreditRating)\n",
    "\n"
   ]
  },
  {
   "cell_type": "code",
   "execution_count": 13,
   "metadata": {
    "Collapsed": "false"
   },
   "outputs": [],
   "source": [
    "#Melakukan konversi kolom risk_rating menjadi factor\n",
    "dataCreditRating$risk_rating <- as.factor(dataCreditRating$risk_rating)"
   ]
  },
  {
   "cell_type": "code",
   "execution_count": 14,
   "metadata": {
    "Collapsed": "false"
   },
   "outputs": [
    {
     "name": "stdout",
     "output_type": "stream",
     "text": [
      "'data.frame':\t900 obs. of  7 variables:\n",
      " $ kode_kontrak           : chr  \"AGR-000001\" \"AGR-000011\" \"AGR-000030\" \"AGR-000043\" ...\n",
      " $ pendapatan_setahun_juta: num  295 271 159 210 165 220 70 88 163 100 ...\n",
      " $ kpr_aktif              : chr  \"YA\" \"YA\" \"TIDAK\" \"YA\" ...\n",
      " $ durasi_pinjaman_bulan  : num  48 36 12 12 36 24 36 48 48 36 ...\n",
      " $ jumlah_tanggungan      : num  5 5 0 3 0 5 3 3 5 6 ...\n",
      " $ rata_rata_overdue      : chr  \"61 - 90 days\" \"61 - 90 days\" \"0 - 30 days\" \"46 - 60 days\" ...\n",
      " $ risk_rating            : Factor w/ 5 levels \"1\",\"2\",\"3\",\"4\",..: 4 4 1 3 2 1 2 2 2 2 ...\n"
     ]
    }
   ],
   "source": [
    "#Melihat struktur setelah konversi\n",
    "str(dataCreditRating)"
   ]
  },
  {
   "cell_type": "markdown",
   "metadata": {
    "Collapsed": "false"
   },
   "source": [
    "## Data Preparation untuk Input Variables\n",
    "\n",
    "Tidak semua input variable yang perlu kita gunakan, apalagi yang sangat berkaitan sangat erat dengan **risk_rating**, yaitu **rata_rata_overdue**. Input variable ini akan kita buang. Proses ini disebut sebagai *feature selection*.\n",
    "\n",
    "Karena kita gunakan data frame sebagai tipe data input kita untuk C5.0, maka field-field yang ingin kita gunakan bisa kita kita masukkan sebagai vector sebagai filter.\n",
    "\n",
    "Berikut adalah perintah untuk membuat vector nama kolom yang kita butuhkan saat ini, yaitu **durasi_pinjaman_bulan** dan **jumlah_tanggungan**. Hasil filtering ini kita simpan ke variable baru bernama **datafeed**, dan perintah terakhir kita gunakan melihat struktur variable ini.\n",
    "\n",
    "    input_columns <- c(\"durasi_pinjaman_bulan\", \"jumlah_tanggungan\")\n",
    "    datafeed <- dataCreditRating[ , input_columns ]\n",
    "    str(datafeed)\n",
    "\n",
    "Catatan: **kode_kontrak** harusnya tidak dipilih karena unik untuk keseluruhan data, dan tidak menjadi penentu untuk membentuk pola. Tetapi ini dimasukkan dengan tujuan untuk menunjukkan C5.0 memiliki kemampuan untuk membuang variable input yang tidak relevan secara otomatis. \n",
    "\n",
    "Tambahkan ketiga perintah tersebut untuk menggantikan #[...] pada code editor. Dan jalankan code ini, jika berhasil maka akan muncul tampilan berikut."
   ]
  },
  {
   "cell_type": "code",
   "execution_count": 16,
   "metadata": {
    "Collapsed": "false"
   },
   "outputs": [
    {
     "data": {
      "text/html": [
       "<table>\n",
       "<thead><tr><th scope=col>kode_kontrak</th><th scope=col>pendapatan_setahun_juta</th><th scope=col>kpr_aktif</th><th scope=col>durasi_pinjaman_bulan</th><th scope=col>jumlah_tanggungan</th><th scope=col>rata_rata_overdue</th><th scope=col>risk_rating</th></tr></thead>\n",
       "<tbody>\n",
       "\t<tr><td>AGR-000001  </td><td>295         </td><td>YA          </td><td>48          </td><td>5           </td><td>61 - 90 days</td><td>4           </td></tr>\n",
       "\t<tr><td>AGR-000011  </td><td>271         </td><td>YA          </td><td>36          </td><td>5           </td><td>61 - 90 days</td><td>4           </td></tr>\n",
       "\t<tr><td>AGR-000030  </td><td>159         </td><td>TIDAK       </td><td>12          </td><td>0           </td><td>0 - 30 days </td><td>1           </td></tr>\n",
       "\t<tr><td>AGR-000043  </td><td>210         </td><td>YA          </td><td>12          </td><td>3           </td><td>46 - 60 days</td><td>3           </td></tr>\n",
       "\t<tr><td>AGR-000049  </td><td>165         </td><td>TIDAK       </td><td>36          </td><td>0           </td><td>31 - 45 days</td><td>2           </td></tr>\n",
       "\t<tr><td>AGR-000063  </td><td>220         </td><td>TIDAK       </td><td>24          </td><td>5           </td><td>0 - 30 days </td><td>1           </td></tr>\n",
       "</tbody>\n",
       "</table>\n"
      ],
      "text/latex": [
       "\\begin{tabular}{r|lllllll}\n",
       " kode\\_kontrak & pendapatan\\_setahun\\_juta & kpr\\_aktif & durasi\\_pinjaman\\_bulan & jumlah\\_tanggungan & rata\\_rata\\_overdue & risk\\_rating\\\\\n",
       "\\hline\n",
       "\t AGR-000001   & 295          & YA           & 48           & 5            & 61 - 90 days & 4           \\\\\n",
       "\t AGR-000011   & 271          & YA           & 36           & 5            & 61 - 90 days & 4           \\\\\n",
       "\t AGR-000030   & 159          & TIDAK        & 12           & 0            & 0 - 30 days  & 1           \\\\\n",
       "\t AGR-000043   & 210          & YA           & 12           & 3            & 46 - 60 days & 3           \\\\\n",
       "\t AGR-000049   & 165          & TIDAK        & 36           & 0            & 31 - 45 days & 2           \\\\\n",
       "\t AGR-000063   & 220          & TIDAK        & 24           & 5            & 0 - 30 days  & 1           \\\\\n",
       "\\end{tabular}\n"
      ],
      "text/markdown": [
       "\n",
       "| kode_kontrak | pendapatan_setahun_juta | kpr_aktif | durasi_pinjaman_bulan | jumlah_tanggungan | rata_rata_overdue | risk_rating |\n",
       "|---|---|---|---|---|---|---|\n",
       "| AGR-000001   | 295          | YA           | 48           | 5            | 61 - 90 days | 4            |\n",
       "| AGR-000011   | 271          | YA           | 36           | 5            | 61 - 90 days | 4            |\n",
       "| AGR-000030   | 159          | TIDAK        | 12           | 0            | 0 - 30 days  | 1            |\n",
       "| AGR-000043   | 210          | YA           | 12           | 3            | 46 - 60 days | 3            |\n",
       "| AGR-000049   | 165          | TIDAK        | 36           | 0            | 31 - 45 days | 2            |\n",
       "| AGR-000063   | 220          | TIDAK        | 24           | 5            | 0 - 30 days  | 1            |\n",
       "\n"
      ],
      "text/plain": [
       "  kode_kontrak pendapatan_setahun_juta kpr_aktif durasi_pinjaman_bulan\n",
       "1 AGR-000001   295                     YA        48                   \n",
       "2 AGR-000011   271                     YA        36                   \n",
       "3 AGR-000030   159                     TIDAK     12                   \n",
       "4 AGR-000043   210                     YA        12                   \n",
       "5 AGR-000049   165                     TIDAK     36                   \n",
       "6 AGR-000063   220                     TIDAK     24                   \n",
       "  jumlah_tanggungan rata_rata_overdue risk_rating\n",
       "1 5                 61 - 90 days      4          \n",
       "2 5                 61 - 90 days      4          \n",
       "3 0                 0 - 30 days       1          \n",
       "4 3                 46 - 60 days      3          \n",
       "5 0                 31 - 45 days      2          \n",
       "6 5                 0 - 30 days       1          "
      ]
     },
     "metadata": {},
     "output_type": "display_data"
    },
    {
     "name": "stdout",
     "output_type": "stream",
     "text": [
      "'data.frame':\t900 obs. of  7 variables:\n",
      " $ kode_kontrak           : chr  \"AGR-000001\" \"AGR-000011\" \"AGR-000030\" \"AGR-000043\" ...\n",
      " $ pendapatan_setahun_juta: num  295 271 159 210 165 220 70 88 163 100 ...\n",
      " $ kpr_aktif              : chr  \"YA\" \"YA\" \"TIDAK\" \"YA\" ...\n",
      " $ durasi_pinjaman_bulan  : num  48 36 12 12 36 24 36 48 48 36 ...\n",
      " $ jumlah_tanggungan      : num  5 5 0 3 0 5 3 3 5 6 ...\n",
      " $ rata_rata_overdue      : chr  \"61 - 90 days\" \"61 - 90 days\" \"0 - 30 days\" \"46 - 60 days\" ...\n",
      " $ risk_rating            : Factor w/ 5 levels \"1\",\"2\",\"3\",\"4\",..: 4 4 1 3 2 1 2 2 2 2 ...\n"
     ]
    }
   ],
   "source": [
    "head(dataCreditRating)\n",
    "str(dataCreditRating)"
   ]
  },
  {
   "cell_type": "code",
   "execution_count": 20,
   "metadata": {
    "Collapsed": "false"
   },
   "outputs": [
    {
     "name": "stdout",
     "output_type": "stream",
     "text": [
      "'data.frame':\t900 obs. of  2 variables:\n",
      " $ durasi_pinjaman_bulan: num  48 36 12 12 36 24 36 48 48 36 ...\n",
      " $ jumlah_tanggungan    : num  5 5 0 3 0 5 3 3 5 6 ...\n"
     ]
    },
    {
     "data": {
      "text/html": [
       "<table>\n",
       "<thead><tr><th scope=col>durasi_pinjaman_bulan</th><th scope=col>jumlah_tanggungan</th></tr></thead>\n",
       "<tbody>\n",
       "\t<tr><td>48</td><td>5 </td></tr>\n",
       "\t<tr><td>36</td><td>5 </td></tr>\n",
       "\t<tr><td>12</td><td>0 </td></tr>\n",
       "\t<tr><td>12</td><td>3 </td></tr>\n",
       "\t<tr><td>36</td><td>0 </td></tr>\n",
       "\t<tr><td>24</td><td>5 </td></tr>\n",
       "</tbody>\n",
       "</table>\n"
      ],
      "text/latex": [
       "\\begin{tabular}{r|ll}\n",
       " durasi\\_pinjaman\\_bulan & jumlah\\_tanggungan\\\\\n",
       "\\hline\n",
       "\t 48 & 5 \\\\\n",
       "\t 36 & 5 \\\\\n",
       "\t 12 & 0 \\\\\n",
       "\t 12 & 3 \\\\\n",
       "\t 36 & 0 \\\\\n",
       "\t 24 & 5 \\\\\n",
       "\\end{tabular}\n"
      ],
      "text/markdown": [
       "\n",
       "| durasi_pinjaman_bulan | jumlah_tanggungan |\n",
       "|---|---|\n",
       "| 48 | 5  |\n",
       "| 36 | 5  |\n",
       "| 12 | 0  |\n",
       "| 12 | 3  |\n",
       "| 36 | 0  |\n",
       "| 24 | 5  |\n",
       "\n"
      ],
      "text/plain": [
       "  durasi_pinjaman_bulan jumlah_tanggungan\n",
       "1 48                    5                \n",
       "2 36                    5                \n",
       "3 12                    0                \n",
       "4 12                    3                \n",
       "5 36                    0                \n",
       "6 24                    5                "
      ]
     },
     "metadata": {},
     "output_type": "display_data"
    }
   ],
   "source": [
    "input_columns <- c(\"durasi_pinjaman_bulan\", \"jumlah_tanggungan\")\n",
    "datafeed <- dataCreditRating[,input_columns]\n",
    "str(datafeed)\n",
    "head(datafeed)"
   ]
  },
  {
   "cell_type": "markdown",
   "metadata": {
    "Collapsed": "false"
   },
   "source": [
    "## Training Set dan Testing Set\n",
    "\n",
    "Untuk proses pembentukan model machine learning dan melihat akurasinya, biasanya dataset kita perlu dibagi menjadi dua, yaitu:\n",
    "\n",
    "- **Training set**: adalah porsi dataset yang digunakan oleh algoritma untuk dianalisa dan menjadi input untuk pembentukan model. \n",
    "- **Testing set**: adalah porsi dataset yang tidak digunakan untuk membentuk model, tapi untuk menguji model yang telah dibentuk.\n",
    "\n",
    "Pembentukan ini biasanya menggunakan metode pemilihan acak. Untuk praktek selanjutnya, kita akan membagi dataset kita menjadi 800 baris data untuk training set dan 100 baris data untuk testing set."
   ]
  },
  {
   "cell_type": "markdown",
   "metadata": {
    "Collapsed": "false"
   },
   "source": [
    "## Mempersiapkan Training dan Testing Set\n",
    "\n",
    "Training dan testing set kita akan mengambil dari variable data frame bernama **datafeed** yang telah kita persiapkan pada praktek sebelumnya. Jumlah baris dataset kita adalah 900, dimana kita akan mengambil 800 baris secara acak sebagai training set dan sisa 100 sebagai testing set.\n",
    "\n",
    "Langkah pertama adalah menyusun index untuk training set, caranya adalah menggunakan kedua perintah berikut.\n",
    "\n",
    "    set.seed(100)\n",
    "    indeks_training_set <- sample(900, 800)\n",
    "\n",
    "dimana:\n",
    "\n",
    "- **set.seed(100)** adalah perintah untuk menyeragamkan pengambilan bilangan acak di seluruh aplikasi R.\n",
    "- **sample(900, 800)** adalah membuat urutan acak dengan rentang nilai 1 sampai dengan 900, tetapi diambil sebanyak 800 nilai.\n",
    "\n",
    "Masukkan kedua perintah di atas untuk menggantikan bagian #[...1...] pada code editor.\n",
    "\n",
    "Langkah kedua adalah membuat variable untuk training set (input dan class variable) dan testing set (input variable saja) berdasarkan index di atas dengan perintah berikut.\n",
    "\n",
    "    input_training_set <- datafeed[indeks_training_set,]\n",
    "    class_training_set <- dataCreditRating[indeks_training_set,]$risk_rating\n",
    "    input_testing_set <- datafeed[-indeks_training_set,]\n",
    "\n",
    "di mana:\n",
    "\n",
    "- **input_training_set** akan diisi dari data frame **datafeed** dengan index yang isinya terdapat pada variable **indeks_training_set**.\n",
    "- **class_training_set** akan diisi dari data frame **dataCreditRating** dengan index yang isinya terdapat pada variable **indeks_training_set**.\n",
    "- **input_testing_set** akan diisi **datafeed** dengan index yang isinya tidak ada di **indeks_training_set** - perhatikan tanda minus yang ada di depan variable **indeks_training_set**.\n",
    "\n",
    "Masukkan kedua perintah tersebut ke dalam code editor untuk menggantikan bagian #[...2...]. Jalankan dan lihat hasilnya, jika berjalan dengan lancar maka akan tampil dua struktur dataset dimana satunya berjumlah 800 row dan satunya berjumlah 100."
   ]
  },
  {
   "cell_type": "code",
   "execution_count": 42,
   "metadata": {
    "Collapsed": "false"
   },
   "outputs": [
    {
     "name": "stdout",
     "output_type": "stream",
     "text": [
      "'data.frame':\t800 obs. of  2 variables:\n",
      " $ durasi_pinjaman_bulan: num  36 24 36 36 36 24 12 48 48 12 ...\n",
      " $ jumlah_tanggungan    : num  1 1 5 1 5 3 3 3 0 0 ...\n",
      " Factor w/ 5 levels \"1\",\"2\",\"3\",\"4\",..: 1 1 4 1 5 3 3 3 2 1 ...\n",
      "'data.frame':\t100 obs. of  2 variables:\n",
      " $ durasi_pinjaman_bulan: num  12 36 48 36 48 48 12 12 12 12 ...\n",
      " $ jumlah_tanggungan    : num  0 0 3 3 6 5 0 0 0 4 ...\n"
     ]
    }
   ],
   "source": [
    "#Mempersiapkan porsi index acak untuk training dan testing set\n",
    "set.seed(100)\n",
    "indeks_training_set <- sample(900, 800)\n",
    "\n",
    "#Membuat dan menampilkan training set dan testing set\n",
    "input_training_set <- datafeed[indeks_training_set,]\n",
    "class_training_set <- dataCreditRating[indeks_training_set,]$risk_rating\n",
    "input_testing_set <- datafeed[-indeks_training_set,]\n",
    "\n",
    "\n",
    "str(input_training_set)\n",
    "str(class_training_set)\n",
    "str(input_testing_set)"
   ]
  },
  {
   "cell_type": "code",
   "execution_count": 43,
   "metadata": {
    "Collapsed": "false"
   },
   "outputs": [
    {
     "data": {
      "text/html": [
       "<table>\n",
       "<thead><tr><th></th><th scope=col>durasi_pinjaman_bulan</th><th scope=col>jumlah_tanggungan</th></tr></thead>\n",
       "<tbody>\n",
       "\t<tr><th scope=row>714</th><td>36</td><td>1 </td></tr>\n",
       "\t<tr><th scope=row>503</th><td>24</td><td>1 </td></tr>\n",
       "\t<tr><th scope=row>358</th><td>36</td><td>5 </td></tr>\n",
       "\t<tr><th scope=row>624</th><td>36</td><td>1 </td></tr>\n",
       "\t<tr><th scope=row>718</th><td>36</td><td>5 </td></tr>\n",
       "\t<tr><th scope=row>470</th><td>24</td><td>3 </td></tr>\n",
       "</tbody>\n",
       "</table>\n"
      ],
      "text/latex": [
       "\\begin{tabular}{r|ll}\n",
       "  & durasi\\_pinjaman\\_bulan & jumlah\\_tanggungan\\\\\n",
       "\\hline\n",
       "\t714 & 36 & 1 \\\\\n",
       "\t503 & 24 & 1 \\\\\n",
       "\t358 & 36 & 5 \\\\\n",
       "\t624 & 36 & 1 \\\\\n",
       "\t718 & 36 & 5 \\\\\n",
       "\t470 & 24 & 3 \\\\\n",
       "\\end{tabular}\n"
      ],
      "text/markdown": [
       "\n",
       "| <!--/--> | durasi_pinjaman_bulan | jumlah_tanggungan |\n",
       "|---|---|---|\n",
       "| 714 | 36 | 1  |\n",
       "| 503 | 24 | 1  |\n",
       "| 358 | 36 | 5  |\n",
       "| 624 | 36 | 1  |\n",
       "| 718 | 36 | 5  |\n",
       "| 470 | 24 | 3  |\n",
       "\n"
      ],
      "text/plain": [
       "    durasi_pinjaman_bulan jumlah_tanggungan\n",
       "714 36                    1                \n",
       "503 24                    1                \n",
       "358 36                    5                \n",
       "624 36                    1                \n",
       "718 36                    5                \n",
       "470 24                    3                "
      ]
     },
     "metadata": {},
     "output_type": "display_data"
    }
   ],
   "source": [
    "head(input_training_set)"
   ]
  },
  {
   "cell_type": "code",
   "execution_count": 44,
   "metadata": {
    "Collapsed": "false"
   },
   "outputs": [
    {
     "data": {
      "text/html": [
       "<ol class=list-inline>\n",
       "\t<li>1</li>\n",
       "\t<li>1</li>\n",
       "\t<li>4</li>\n",
       "\t<li>1</li>\n",
       "\t<li>5</li>\n",
       "\t<li>3</li>\n",
       "</ol>\n",
       "\n",
       "<details>\n",
       "\t<summary style=display:list-item;cursor:pointer>\n",
       "\t\t<strong>Levels</strong>:\n",
       "\t</summary>\n",
       "\t<ol class=list-inline>\n",
       "\t\t<li>'1'</li>\n",
       "\t\t<li>'2'</li>\n",
       "\t\t<li>'3'</li>\n",
       "\t\t<li>'4'</li>\n",
       "\t\t<li>'5'</li>\n",
       "\t</ol>\n",
       "</details>"
      ],
      "text/latex": [
       "\\begin{enumerate*}\n",
       "\\item 1\n",
       "\\item 1\n",
       "\\item 4\n",
       "\\item 1\n",
       "\\item 5\n",
       "\\item 3\n",
       "\\end{enumerate*}\n",
       "\n",
       "\\emph{Levels}: \\begin{enumerate*}\n",
       "\\item '1'\n",
       "\\item '2'\n",
       "\\item '3'\n",
       "\\item '4'\n",
       "\\item '5'\n",
       "\\end{enumerate*}\n"
      ],
      "text/markdown": [
       "1. 1\n",
       "2. 1\n",
       "3. 4\n",
       "4. 1\n",
       "5. 5\n",
       "6. 3\n",
       "\n",
       "\n",
       "\n",
       "**Levels**: 1. '1'\n",
       "2. '2'\n",
       "3. '3'\n",
       "4. '4'\n",
       "5. '5'\n",
       "\n",
       "\n"
      ],
      "text/plain": [
       "[1] 1 1 4 1 5 3\n",
       "Levels: 1 2 3 4 5"
      ]
     },
     "metadata": {},
     "output_type": "display_data"
    }
   ],
   "source": [
    "head(class_training_set)"
   ]
  },
  {
   "cell_type": "code",
   "execution_count": 45,
   "metadata": {
    "Collapsed": "false"
   },
   "outputs": [
    {
     "data": {
      "text/html": [
       "<table>\n",
       "<thead><tr><th></th><th scope=col>durasi_pinjaman_bulan</th><th scope=col>jumlah_tanggungan</th></tr></thead>\n",
       "<tbody>\n",
       "\t<tr><th scope=row>3</th><td>12</td><td>0 </td></tr>\n",
       "\t<tr><th scope=row>5</th><td>36</td><td>0 </td></tr>\n",
       "\t<tr><th scope=row>8</th><td>48</td><td>3 </td></tr>\n",
       "\t<tr><th scope=row>40</th><td>36</td><td>3 </td></tr>\n",
       "\t<tr><th scope=row>41</th><td>48</td><td>6 </td></tr>\n",
       "\t<tr><th scope=row>44</th><td>48</td><td>5 </td></tr>\n",
       "</tbody>\n",
       "</table>\n"
      ],
      "text/latex": [
       "\\begin{tabular}{r|ll}\n",
       "  & durasi\\_pinjaman\\_bulan & jumlah\\_tanggungan\\\\\n",
       "\\hline\n",
       "\t3 & 12 & 0 \\\\\n",
       "\t5 & 36 & 0 \\\\\n",
       "\t8 & 48 & 3 \\\\\n",
       "\t40 & 36 & 3 \\\\\n",
       "\t41 & 48 & 6 \\\\\n",
       "\t44 & 48 & 5 \\\\\n",
       "\\end{tabular}\n"
      ],
      "text/markdown": [
       "\n",
       "| <!--/--> | durasi_pinjaman_bulan | jumlah_tanggungan |\n",
       "|---|---|---|\n",
       "| 3 | 12 | 0  |\n",
       "| 5 | 36 | 0  |\n",
       "| 8 | 48 | 3  |\n",
       "| 40 | 36 | 3  |\n",
       "| 41 | 48 | 6  |\n",
       "| 44 | 48 | 5  |\n",
       "\n"
      ],
      "text/plain": [
       "   durasi_pinjaman_bulan jumlah_tanggungan\n",
       "3  12                    0                \n",
       "5  36                    0                \n",
       "8  48                    3                \n",
       "40 36                    3                \n",
       "41 48                    6                \n",
       "44 48                    5                "
      ]
     },
     "metadata": {},
     "output_type": "display_data"
    }
   ],
   "source": [
    "head(input_testing_set)"
   ]
  },
  {
   "cell_type": "markdown",
   "metadata": {
    "Collapsed": "false"
   },
   "source": [
    "## Menghasilkan Model dengan Fungsi C5.0\n",
    "\n",
    "Dengan persiapan sebelumnya, sekarang saatnya kita akan menggunakan algoritma C5.0 untuk menghasilkan model decision tree dengan menggunakan fungsi yang juga bernama C5.0. Function ini juga memerlukan package R yang bernama \"C50\".\n",
    "\n",
    "Syntax penggunaan fungsi C5.0 adalah sebagai berikut:\n",
    "\n",
    "    C5.0(input_variables, class_variables)\n",
    "\n",
    "Dengan menggunakan dataset yang sudah kita siapkan maka perintah untuk membentuk model dan sekaligus menyimpannya dalam satu variable bernama risk_rating_model adalah sebagai berikut:\n",
    "\n",
    "    risk_rating_model <- C5.0(input_training_set, class_training_set)\n",
    "\n",
    "Sederhana sekali bukan?\n",
    "\n",
    "Namun kita belum selesai, setelah pembentukan model coba tampilkan *overview* model tersebut dengan perintah *summary*.\n",
    "\n",
    "    summary(risk_rating_model)\n",
    "\n",
    "Masukkan kedua code yang telah dicontohkan ke dalam code editor untuk menggantikan bagian #[...1...] dan jalankan. Jika semua berjalan dengan lancar, maka output yang dihasilkan adalah sebagai berikut. Detil output ini akan kita bahas pada bab berikutnya."
   ]
  },
  {
   "cell_type": "code",
   "execution_count": 46,
   "metadata": {
    "Collapsed": "false"
   },
   "outputs": [],
   "source": [
    "risk_rating_model <- C5.0(input_training_set, class_training_set)"
   ]
  },
  {
   "cell_type": "code",
   "execution_count": 47,
   "metadata": {
    "Collapsed": "false"
   },
   "outputs": [
    {
     "data": {
      "text/plain": [
       "\n",
       "Call:\n",
       "C5.0.default(x = input_training_set, y = class_training_set)\n",
       "\n",
       "\n",
       "C5.0 [Release 2.07 GPL Edition]  \tSun Jan 26 02:21:08 2020\n",
       "-------------------------------\n",
       "\n",
       "Class specified by attribute `outcome'\n",
       "\n",
       "Read 800 cases (3 attributes) from undefined.data\n",
       "\n",
       "Decision tree:\n",
       "\n",
       "jumlah_tanggungan > 4:\n",
       ":...durasi_pinjaman_bulan <= 24: 4 (105/30)\n",
       ":   durasi_pinjaman_bulan > 24: 5 (120/51)\n",
       "jumlah_tanggungan <= 4:\n",
       ":...jumlah_tanggungan > 2: 3 (216/20)\n",
       "    jumlah_tanggungan <= 2:\n",
       "    :...durasi_pinjaman_bulan <= 36: 1 (264/80)\n",
       "        durasi_pinjaman_bulan > 36:\n",
       "        :...jumlah_tanggungan <= 0: 2 (37/7)\n",
       "            jumlah_tanggungan > 0: 3 (58/4)\n",
       "\n",
       "\n",
       "Evaluation on training data (800 cases):\n",
       "\n",
       "\t    Decision Tree   \n",
       "\t  ----------------  \n",
       "\t  Size      Errors  \n",
       "\n",
       "\t     6  192(24.0%)   <<\n",
       "\n",
       "\n",
       "\t   (a)   (b)   (c)   (d)   (e)    <-classified as\n",
       "\t  ----  ----  ----  ----  ----\n",
       "\t   184     2     5     6     6    (a): class 1\n",
       "\t    80    30    19     6    11    (b): class 2\n",
       "\t           3   250                (c): class 3\n",
       "\t           2          75    34    (d): class 4\n",
       "\t                      18    69    (e): class 5\n",
       "\n",
       "\n",
       "\tAttribute usage:\n",
       "\n",
       "\t100.00%\tjumlah_tanggungan\n",
       "\t 73.00%\tdurasi_pinjaman_bulan\n",
       "\n",
       "\n",
       "Time: 0.0 secs\n"
      ]
     },
     "metadata": {},
     "output_type": "display_data"
    }
   ],
   "source": [
    "summary(risk_rating_model)"
   ]
  },
  {
   "cell_type": "markdown",
   "metadata": {
    "Collapsed": "false"
   },
   "source": [
    "## Menghasilkan Plot dari Model C5.0\n",
    "\n",
    "Selain model teks dari praktek sebelumnya, kita juga bisa menghasilkan decision tree dalam bentuk grafik. Dan cuma butuh satu perintah untuk melakukan hal ini, yaitu:\n",
    "\n",
    "    plot(model)\n",
    "\n",
    "Dengan code praktek yang telah kita lakukan - dimana model kita namakan risk_rating_model - maka perintah tersebut kita sesuaikan menjadi.\n",
    "\n",
    "    plot(risk_rating_model)\n",
    "\n",
    "Ketikkan perintah tersebut untuk menggantikan bagian #[...1...] dari code editor. Jalankan, dan jika berhasil Anda akan mendapatkan diagram decision tree sebagai berikut.\n",
    "\n",
    "<img src='plot.png'>\n",
    "\n",
    "Arti dari output diagram ini akan kita jelaskan pada bab berikutnya. Klik tombol Submit Code untuk melanjutkan."
   ]
  },
  {
   "cell_type": "code",
   "execution_count": 56,
   "metadata": {
    "Collapsed": "false"
   },
   "outputs": [
    {
     "data": {
      "image/png": "[encoded data removed]",
      "text/plain": [
       "plot without title"
      ]
     },
     "metadata": {},
     "output_type": "display_data"
    }
   ],
   "source": [
    "plot(risk_rating_model, asp = 1.6)"
   ]
  },
  {
   "cell_type": "code",
   "execution_count": 50,
   "metadata": {
    "Collapsed": "false"
   },
   "outputs": [],
   "source": [
    "\n"
   ]
  },
  {
   "cell_type": "markdown",
   "metadata": {
    "Collapsed": "false"
   },
   "source": [
    "## Kesimpulan\n",
    "\n",
    "**Algoritma C5.0** adalah algoritma machine learning yang digunakan untuk membentuk model pohon keputusan (decision tree) secara otomatis, dan cocok untuk memodelkan dan sebagi alat prediksi credit rating.\n",
    "\n",
    "Karena algoritma ini masuk ke dalam kategori classification, variable yang diperlukan oleh algoritma ini ada dua macam:\n",
    "\n",
    "- **Class variable**, yaitu variable yang berisi nilai yang ingin kita klasifikasikan. Variable ini harus berisi tipe factor.\n",
    "- **Input variables**, yaitu variable-variable yang berisi nilai input.\n",
    "\n",
    "Dan untuk mengukur akurasi dari model yang kita hasilkan, kita sebaiknya membagi dataset yang ada menjadi dua porsi secara random:\n",
    "\n",
    "- **Training set**, yang digunakan untuk memberikan input ke algoritma untuk membentuk model.\n",
    "- **Testing set**, yang akan digunakan untuk data pembanding untuk mengukur akurasi algoritma.\n",
    "\n",
    "Setelah semua persiapan dataset ini selesai, pada penutup bab dataset ini kita menggunakan fungsi **C5.0** untuk membentuk model risk rating. Dan untuk mencetak hasil yang bisa dibaca atas model ini, kita gunakan fungsi **summary**. Sedangkan untuk menghasilkan diagram decision tree kita gunakan perintah **plot**. Semua function ini dari package **C50**.\n"
   ]
  },
  {
   "cell_type": "markdown",
   "metadata": {
    "Collapsed": "false"
   },
   "source": [
    "# Memahami Output dari Fungsi C5.0"
   ]
  },
  {
   "cell_type": "markdown",
   "metadata": {
    "Collapsed": "false"
   },
   "source": [
    "## Summary Model C5.0\n",
    "\n",
    "Berikut adalah tampilan summary dari model decision tree yang dihasilkan dari fungsi C5.0 di bab sebelumnya. "
   ]
  },
  {
   "cell_type": "code",
   "execution_count": 49,
   "metadata": {
    "Collapsed": "false"
   },
   "outputs": [
    {
     "data": {
      "text/plain": [
       "\n",
       "Call:\n",
       "C5.0.default(x = input_training_set, y = class_training_set)\n",
       "\n",
       "\n",
       "C5.0 [Release 2.07 GPL Edition]  \tSun Jan 26 02:21:08 2020\n",
       "-------------------------------\n",
       "\n",
       "Class specified by attribute `outcome'\n",
       "\n",
       "Read 800 cases (3 attributes) from undefined.data\n",
       "\n",
       "Decision tree:\n",
       "\n",
       "jumlah_tanggungan > 4:\n",
       ":...durasi_pinjaman_bulan <= 24: 4 (105/30)\n",
       ":   durasi_pinjaman_bulan > 24: 5 (120/51)\n",
       "jumlah_tanggungan <= 4:\n",
       ":...jumlah_tanggungan > 2: 3 (216/20)\n",
       "    jumlah_tanggungan <= 2:\n",
       "    :...durasi_pinjaman_bulan <= 36: 1 (264/80)\n",
       "        durasi_pinjaman_bulan > 36:\n",
       "        :...jumlah_tanggungan <= 0: 2 (37/7)\n",
       "            jumlah_tanggungan > 0: 3 (58/4)\n",
       "\n",
       "\n",
       "Evaluation on training data (800 cases):\n",
       "\n",
       "\t    Decision Tree   \n",
       "\t  ----------------  \n",
       "\t  Size      Errors  \n",
       "\n",
       "\t     6  192(24.0%)   <<\n",
       "\n",
       "\n",
       "\t   (a)   (b)   (c)   (d)   (e)    <-classified as\n",
       "\t  ----  ----  ----  ----  ----\n",
       "\t   184     2     5     6     6    (a): class 1\n",
       "\t    80    30    19     6    11    (b): class 2\n",
       "\t           3   250                (c): class 3\n",
       "\t           2          75    34    (d): class 4\n",
       "\t                      18    69    (e): class 5\n",
       "\n",
       "\n",
       "\tAttribute usage:\n",
       "\n",
       "\t100.00%\tjumlah_tanggungan\n",
       "\t 73.00%\tdurasi_pinjaman_bulan\n",
       "\n",
       "\n",
       "Time: 0.0 secs\n"
      ]
     },
     "metadata": {},
     "output_type": "display_data"
    }
   ],
   "source": [
    "summary(risk_rating_model)"
   ]
  },
  {
   "cell_type": "markdown",
   "metadata": {
    "Collapsed": "false"
   },
   "source": [
    "## Label dari Class\n",
    "\n",
    "Mari kita perhatikan baris pertama potongan output yang kita warnai biru sebagai berikut, output lainnya kita hilangkan.\n",
    "\n",
    "    Class specified by attribute `outcome'\n",
    "\n",
    "    Read 800 ....\n",
    "\n",
    "Ini artinya class variable kita dilabelkan atau dinamakan sebagai outcome. Jika kita kita ingin merubah label yang lebih mewakili, yaitu \"Risk Rating\", maka bisa kita tambahkan parameter **control** dengan input berupa fungsi **C5.0Control** dan parameter **label** sebagai berikut.\n",
    "\n",
    "    control = C5.0Control(label=\"Risk Rating\")\n",
    "\n",
    "Tambahkan code ini ke bagian [...1...] dari code editor, dimana sudah dimasukkan seluruh code dari bab sebelumnya - dan jalankan. Jika berjalan dengan baik, maka akan muncul bagian output class label sebagai berikut.\n",
    "\n",
    "    Class specified by attribute `Risk Rating'\n",
    "\n",
    "    Read 800 ....\n",
    "    \n",
    "Terlihat label class kita sudah berubah menjadi \"Risk Rating\"."
   ]
  },
  {
   "cell_type": "code",
   "execution_count": 58,
   "metadata": {
    "Collapsed": "false"
   },
   "outputs": [
    {
     "data": {
      "text/plain": [
       "\n",
       "Call:\n",
       "C5.0.default(x = input_training_set, y = class_training_set, control\n",
       " = C5.0Control(label = \"Risk Rating\"))\n",
       "\n",
       "\n",
       "C5.0 [Release 2.07 GPL Edition]  \tSun Jan 26 03:11:53 2020\n",
       "-------------------------------\n",
       "\n",
       "Class specified by attribute `Risk Rating'\n",
       "\n",
       "Read 800 cases (3 attributes) from undefined.data\n",
       "\n",
       "Decision tree:\n",
       "\n",
       "jumlah_tanggungan > 4:\n",
       ":...durasi_pinjaman_bulan <= 24: 4 (105/30)\n",
       ":   durasi_pinjaman_bulan > 24: 5 (120/51)\n",
       "jumlah_tanggungan <= 4:\n",
       ":...jumlah_tanggungan > 2: 3 (216/20)\n",
       "    jumlah_tanggungan <= 2:\n",
       "    :...durasi_pinjaman_bulan <= 36: 1 (264/80)\n",
       "        durasi_pinjaman_bulan > 36:\n",
       "        :...jumlah_tanggungan <= 0: 2 (37/7)\n",
       "            jumlah_tanggungan > 0: 3 (58/4)\n",
       "\n",
       "\n",
       "Evaluation on training data (800 cases):\n",
       "\n",
       "\t    Decision Tree   \n",
       "\t  ----------------  \n",
       "\t  Size      Errors  \n",
       "\n",
       "\t     6  192(24.0%)   <<\n",
       "\n",
       "\n",
       "\t   (a)   (b)   (c)   (d)   (e)    <-classified as\n",
       "\t  ----  ----  ----  ----  ----\n",
       "\t   184     2     5     6     6    (a): class 1\n",
       "\t    80    30    19     6    11    (b): class 2\n",
       "\t           3   250                (c): class 3\n",
       "\t           2          75    34    (d): class 4\n",
       "\t                      18    69    (e): class 5\n",
       "\n",
       "\n",
       "\tAttribute usage:\n",
       "\n",
       "\t100.00%\tjumlah_tanggungan\n",
       "\t 73.00%\tdurasi_pinjaman_bulan\n",
       "\n",
       "\n",
       "Time: 0.0 secs\n"
      ]
     },
     "metadata": {},
     "output_type": "display_data"
    }
   ],
   "source": [
    "risk_rating_model <- C5.0(input_training_set, class_training_set, control = C5.0Control(label = \"Risk Rating\"))\n",
    "summary(risk_rating_model)"
   ]
  },
  {
   "cell_type": "markdown",
   "metadata": {
    "Collapsed": "false"
   },
   "source": [
    "## Jumlah Data dan Variable yang Digunakan\n",
    "\n",
    "Kita fokus ke bagian berikutnya dari output - yang diwarnai biru sebagai berikut.\n",
    "\n",
    "    Class specified by attribute `Risk Rating'\n",
    "\n",
    "    Read 800 cases (3 attributes) from undefined.data \n",
    "\n",
    "Hasil ini artinya kita membaca 800 baris data. Ini karena kita mengambil 800 dari 900 data kita menggunakan function sample berikut.\n",
    "\n",
    "    sample(900, 800)\n",
    "\n",
    "Kemudian untuk bagian 3 attributes, ini artinya kita memiliki tiga variable, yaitu:\n",
    "\n",
    "- input variables: **durasi_pinjaman dan jumlah_tanggungan**. Dua variable ini didapatkan dari hasil perintah berikut.\n",
    "\n",
    "        input_columns <- c(\"durasi_pinjaman_bulan\", \"jumlah_tanggungan\")\n",
    "        datafeed <- dataCreditRating[ , input_columns ]\n",
    "        \n",
    "- class variable: **risk_rating**\n",
    "\n",
    "Berikut adalah gambar tampilan dari tiga variable tersebut di Excel.\n",
    "\n",
    "<img src=\"jml.png\">\n",
    "\n",
    "Untuk **undefined.data** bisa kita abaikan saja, karena bagian ini harusnya berisi informasi file .data dari program C5.0 yang asli. Jika ingin mengetahui lebih lanjut mengenai hal ini bisa dilihat pada url https://www.rulequest.com/see5-unix.html dan fokus ke bagian preparing data.\n",
    "\n",
    "Cobalah Anda ganti dua hal berikut pada code editor:\n",
    "\n",
    "- **input_columns <- c(\"durasi_pinjaman_bulan\", \"jumlah_tanggungan\")**\n",
    "    menjadi\n",
    "    \n",
    "           input_columns <- c(\"durasi_pinjaman_bulan\", \"jumlah_tanggungan\", \"kpr_aktif\")\n",
    "           \n",
    "           \n",
    "- **sample(900, 800)** menjadi **sample(900, 780)**"
   ]
  },
  {
   "cell_type": "code",
   "execution_count": 59,
   "metadata": {
    "Collapsed": "false"
   },
   "outputs": [
    {
     "data": {
      "text/html": [
       "<ol class=list-inline>\n",
       "\t<li>'kode_kontrak'</li>\n",
       "\t<li>'pendapatan_setahun_juta'</li>\n",
       "\t<li>'kpr_aktif'</li>\n",
       "\t<li>'durasi_pinjaman_bulan'</li>\n",
       "\t<li>'jumlah_tanggungan'</li>\n",
       "\t<li>'rata_rata_overdue'</li>\n",
       "\t<li>'risk_rating'</li>\n",
       "</ol>\n"
      ],
      "text/latex": [
       "\\begin{enumerate*}\n",
       "\\item 'kode\\_kontrak'\n",
       "\\item 'pendapatan\\_setahun\\_juta'\n",
       "\\item 'kpr\\_aktif'\n",
       "\\item 'durasi\\_pinjaman\\_bulan'\n",
       "\\item 'jumlah\\_tanggungan'\n",
       "\\item 'rata\\_rata\\_overdue'\n",
       "\\item 'risk\\_rating'\n",
       "\\end{enumerate*}\n"
      ],
      "text/markdown": [
       "1. 'kode_kontrak'\n",
       "2. 'pendapatan_setahun_juta'\n",
       "3. 'kpr_aktif'\n",
       "4. 'durasi_pinjaman_bulan'\n",
       "5. 'jumlah_tanggungan'\n",
       "6. 'rata_rata_overdue'\n",
       "7. 'risk_rating'\n",
       "\n",
       "\n"
      ],
      "text/plain": [
       "[1] \"kode_kontrak\"            \"pendapatan_setahun_juta\"\n",
       "[3] \"kpr_aktif\"               \"durasi_pinjaman_bulan\"  \n",
       "[5] \"jumlah_tanggungan\"       \"rata_rata_overdue\"      \n",
       "[7] \"risk_rating\"            "
      ]
     },
     "metadata": {},
     "output_type": "display_data"
    }
   ],
   "source": [
    "names(dataCreditRating)"
   ]
  },
  {
   "cell_type": "markdown",
   "metadata": {
    "Collapsed": "false"
   },
   "source": [
    "## Tampilan Teks dari Model Decision Tree\n",
    "\n",
    "Saatnya kita ke bagian paling menarik, yaitu tampilan model decision itu sendiri.\n",
    "\n",
    "    Decision tree:\n",
    "\n",
    "    jumlah_tanggungan > 4:\n",
    "    :...durasi_pinjaman_bulan <= 24: 4 (98/25)\n",
    "    :   durasi_pinjaman_bulan > 24: 5 (129/49)\n",
    "    jumlah_tanggungan <= 4:\n",
    "    :...jumlah_tanggungan > 2: 3 (219/17)\n",
    "        jumlah_tanggungan <= 2:\n",
    "        :...durasi_pinjaman_bulan <= 36: 1 (259/80)\n",
    "            durasi_pinjaman_bulan > 36:\n",
    "            :...jumlah_tanggungan <= 0: 2 (37/7)\n",
    "                jumlah_tanggungan > 0: 3 (58/2)\n",
    "\n",
    "Untuk membantu penjelasan, DQLab melakukan format ulang hasil tersebut dengan memberikan pewarnaan.\n",
    "Decision tree:\n",
    "\n",
    "    jumlah_tanggungan > 4:\n",
    "    :...durasi_pinjaman_bulan <= 24: 4 (98/25)\n",
    "    :   durasi_pinjaman_bulan > 24: 5 (129/49)\n",
    "    jumlah_tanggungan <= 4:\n",
    "    :...jumlah_tanggungan > 2: 3 (219/17)\n",
    "        jumlah_tanggungan <= 2:\n",
    "        :...durasi_pinjaman_bulan <= 36: 1 (259/80)\n",
    "            durasi_pinjaman_bulan > 36:\n",
    "            :...jumlah_tanggungan <= 0: 2 (37/7)\n",
    "                jumlah_tanggungan > 0: 3 (58/2)\n",
    "\n",
    "Berikut adalah arti pewarnaan tersebut:\n",
    "\n",
    "- Warna biru adalah node dan kondisi splitnya. Hubungan antar node (connector) ditulis dengan karakter titik dua dan titik berulang (:...).\n",
    "- Warna merah adalah leaf node atau klasifikasinya.\n",
    "- Warna ungu adalah statistik kesalahannya dalam bentuk (jumlah_klasifikasi / jumlah_kesalahan).\n",
    "\n",
    "Mari kita ambil contoh satu alur yang telah diwarnai berikut.\n",
    "\n",
    "Decision tree:\n",
    "\n",
    "    jumlah_tanggungan > 4:\n",
    "    :...durasi_pinjaman_bulan <= 24: 4 (98/25)\n",
    "    :   durasi_pinjaman_bulan > 24: 5 (129/49)\n",
    "    jumlah_tanggungan <= 4:\n",
    "    :...jumlah_tanggungan > 2: 3 (219/17)\n",
    "        jumlah_tanggungan <= 2:\n",
    "        :...durasi_pinjaman_bulan <= 36: 1 (259/80)\n",
    "            durasi_pinjaman_bulan > 36:\n",
    "            :...jumlah_tanggungan <= 0: 2 (37/7)\n",
    "                jumlah_tanggungan > 0: 3 (58/2)\n",
    "\n",
    "Dari sini alur pengambilan keputusan untuk menentukan risk rating adalah: Jika jumlah tanggungan >lebih dari 4 maka perlu dilihat kondisi berikutnya yaitu:\n",
    "\n",
    "1. Jika durasi pinjaman sampai dengan 24 bulan, maka klasifikasi risk ratingnya adalah 4.\n",
    "Dari dataset training, alur ini mengklasifikasikan 98 data, namun 25 diantara 98 data ini salah klasifikasi. Berikut adalah tampilan data asal kita, terlihat beberapa kondisi yang terpenuhi namun bukan dengan nilai risk rating 4 (warna merah).\n",
    "\n",
    "    <img src='1.png'>\n",
    "\n",
    "2. Jika durasi pinjaman lebih dari 24 bulan, maka klasifikasi risk ratingnya adalah 5.\n",
    "Dari dataset training, alur ini mengklasifikasikan 129 data, namun 49 diantara 129 data ini salah klasifikasi. Berikut adalah tampilan data asal kita, terlihat beberapa kondisi yang terpenuhi namun bukan dengan nilai risk rating 5 (warna merah).\n",
    "\n",
    "    <img src='2.png'>\n",
    "\n",
    "Dengan demikian, model yang dibentuk untuk melakukan otomatisasi untuk klasifikasi atau prediksi ini tetap memiliki tingkat resiko kesalahan. Pada bab berikutnya kita akan melakukan evaluasi apakah dengan persentase kesalahan ini masih dalam toleransi yang baik, sehingga model layak digunakan."
   ]
  },
  {
   "cell_type": "markdown",
   "metadata": {
    "Collapsed": "false"
   },
   "source": [
    "## Persentase Kesalahan Model\n",
    "\n",
    "Fokus kita berikutnya adalah potongan evaluasi model yang terlihat sebagai berikut.\n",
    "\n",
    "    Evaluation on training data (800 cases):\n",
    "\n",
    "            Decision Tree   \n",
    "          ----------------  \n",
    "          Size      Errors  \n",
    "\n",
    "             6  180(22.5%)   <<\n",
    "\n",
    "Informasi yang terdapat pada output ini adalah:\n",
    "\n",
    "- **800 cases** adalah jumlah baris data (case) yang diproses.\n",
    "- **Size = 6** adalah jumlah leaf nodes (node ujung) dari decision tree.\n",
    "- **Errors = 180(22.5%)**: 180 adalah jumlah record yang salah klasifikasi, dan 22.5% adalah rasio dari seluruh populasi."
   ]
  },
  {
   "cell_type": "markdown",
   "metadata": {
    "Collapsed": "false"
   },
   "source": [
    "## Confusion Matrix\n",
    "\n",
    "Tampilan output berikutnya adalah semacam tabel yang disebut dengan confusion matrix dengan ukuran 5 x 5.\n",
    "\n",
    "\t   (a)   (b)   (c)   (d)   (e)    <-classified as\n",
    "\t  ----  ----  ----  ----  ----\n",
    "\t   179     1     5     5     6    (a): class 1\n",
    "\t    80    30    14     3    12    (b): class 2\n",
    "\t           4   258                (c): class 3\n",
    "\t           2          73    31    (d): class 4\n",
    "\t                      17    80    (e): class 5\n",
    "Confusion matrix atau error matrix adalah tabel yang menunjukkan hasil dari klasifikasi yang dilakukan model versus (dibandingkan) dengan data klasifikasi sebenarnya, dengan demikian menunjukkan seberapa akurat model melakukan klasifikasi atau prediksi.\n",
    "\n",
    "Confusion matrix ini terdiri dari jumlah kolom dan row yang sama. Dimana header dari row dan kolom adalah merupakan representasi dari nilai class variable - untuk contoh kita adalah representasi **risk_rating**.  Untuk kasus kita dimana class variable ada 5, maka tabelnya berukuran 5 x 5 seperti terlihat di atas.\n",
    "\n",
    "- *Header* pada kolom (column headers) menunjukkan nilai class **risk_rating** yang diprediksi atau diklasifikasikan oleh model, dengan menggunakan label (a), (b), (c), dan seterusnya.\n",
    "- *Header* pada baris (row headers)  menunjukkan nilai class **risk_rating** pada data sebenarnya. Masih direpresentasikan dengan (a), (b), (c), (d) dan (e). Namun disini sudah diberikan informasi label tersebut merepresentasikan nilai risk_rating yang mana. Terlihat kalau (a) merupakan representasi risk_rating dengan nilai 1, (b) merupakan representasi risk_rating dengan nilai 2, dan seterusnya.\n",
    "- Tiap perpotongan antara kolom dan baris merupakan informasi hasil prediksi dari class ada di nilai pada kolom dibandingkan data aktual class-nya berada pada nilai di baris.\n",
    "\n",
    "Untuk lebih jelasnya, mari kita diskusikan arti dari nilai-nilai pada baris pertama dari matrix ini.\n",
    "\n",
    "\t   (a)   (b)   (c)   (d)   (e)    <-classified as\n",
    "\t  ----  ----  ----  ----  ----\n",
    "\t   179     1     5     5     6    (a): class 1\n",
    "\t    80    30    14     3    12    (b): class 2\n",
    "\t           4   258                (c): class 3\n",
    "\t           2          73    31    (d): class 4\n",
    "\t                      17    80    (e): class 5\n",
    "\n",
    "- Angka 179 pada kolom pertama baris pertama menunjukkan jumlah data yang benar klasifikasi atau prediksinya, dimana:\n",
    "    - klasifikasi model terhadap data mendapatkan risk_rating 1\n",
    "    - pada data aktual juga nilai risk_rating-nya 1\n",
    "- Angka 1 pada kolom kedua baris pertama menunjukkan jumlah data yang salah prediksi, dimana:\n",
    "    - klasifikasi model terhadap data mendapatkan risk_rating 2\n",
    "    - pada data aktual ternyata nilai risk_rating-nya 1\n",
    "- Angka 5 pada kolom ketiga baris pertama menunjukkan jumlah data yang salah prediksi, dimana:\n",
    "    - klasifikasi model terhadap data mendapatkan risk_rating 3\n",
    "    - pada data aktual ternyata nilai risk_rating-nya 1\n",
    "- Angka 5 pada kolom keempat baris pertama menunjukkan jumlah data yang salah prediksi, dimana:\n",
    "    - klasifikasi model terhadap data mendapatkan risk_rating 4\n",
    "    - pada data aktual ternyata nilai risk_rating-nya 1\n",
    "- Angka 6 pada kolom kelima baris pertama menunjukkan jumlah data yang salah prediksi, dimana:\n",
    "    - klasifikasi model terhadap data mendapatkan risk_rating 5\n",
    "    - pada data aktual ternyata nilai risk_rating-nya 1\n",
    "\n",
    "Kita bisa ambil kesimpulan dari penjelasan di atas, jika perpotongan kolom dan baris jatuh pada label yang sama maka klasifikasi dari model itu benar. Sedangkan jika beda label maka salah.\n",
    "\n",
    "Dari kesimpulan di atas juga, maka kita bisa ambil keseimpulan lanjutan kalau diagonal ke kanan bawah di confusion matrix menunjukkan seluruh prediksi yang benar dari model, karena berpotongan di label yang sama, seperti terlihat pada angka-angka yang diwarnai biru sebagai berikut. Untuk angka yang berwarna merah merupakan representasi jumlah data yang salah prediksi.\n",
    "\n",
    "\t   (a)   (b)   (c)   (d)   (e)    <-classified as\n",
    "\t  ----  ----  ----  ----  ----\n",
    "\t   179     1     5     5     6    (a): class 1\n",
    "\t    80    30    14     3    12    (b): class 2\n",
    "\t           4   258                (c): class 3\n",
    "\t           2          73    31    (d): class 4\n",
    "\t                      17    80    (e): class 5\n",
    "\n",
    "Terakhir, kita coba jumlahkan seluruh angka ini:\n",
    "- Angka dengan prediksi benar: 620 (179 + 30 + 258 + 73 + 80)\n",
    "- Angka dengan prediksi salah: 180 (1 + 5 + 5 + 6 + 80 + 14 + 3 + 12 + 4 + 2 + 31 + 17)\n",
    "\n",
    "Total adalah 800 data, sesuai dengan statistik sebenarnya. Angka 180 yang merupakan error juga konsisten dengan hasil output di subbab sebelumnya."
   ]
  },
  {
   "cell_type": "markdown",
   "metadata": {
    "Collapsed": "false"
   },
   "source": [
    "## Merubah Label Class Variable\n",
    "\n",
    "Label risk rating pada confusion matrix kita saat ini adalah 1 sampai dengan 5. Ini karena kebetulan contoh class variable kita adalah angka terurut seperti itu.\n",
    "\n",
    "Agar tidak bingung mari kita ubah isi dari variable risk_rating dari 1, 2, 3, 4, dan 5 menjadi \"satu\", \"dua\", \"tiga\", \"empat\" dan \"lima\" dengan perintah-perintah berikut.\n",
    "\n",
    "    dataCreditRating$risk_rating[dataCreditRating$risk_rating == \"1\"]  <-  \"satu\"\n",
    "    dataCreditRating$risk_rating[dataCreditRating$risk_rating == \"2\"]  <-  \"dua\"\n",
    "    dataCreditRating$risk_rating[dataCreditRating$risk_rating == \"3\"]  <-  \"tiga\"\n",
    "    dataCreditRating$risk_rating[dataCreditRating$risk_rating == \"4\"]  <-  \"empat\"\n",
    "    dataCreditRating$risk_rating[dataCreditRating$risk_rating == \"5\"]  <-  \"lima\"\n",
    "\n",
    "Tiap perintah ini memiliki tiga bagian, kita akan ambil contoh untuk perintah pertama:\n",
    " \n",
    "    - dataCreditRating$risk_rating[...], artinya kita mengakses kolom risk_rating  pada indeks ke ...\n",
    "\n",
    "    - dataCreditRating$risk_rating == \"1\", artinya kita mengambil indeks dimana nilai risk_rating bernilai \"1\"\n",
    "    - <- \"satu\", teks \"satu\" dimasukkan ke ...\n",
    "    \n",
    " \n",
    "Dengan demikian, arti dari perintah pertama adalah memasukkan teks \"satu\" ke variable risk_rating dengan indeks dimana nilai risk_rating bernilai \"1\".\n",
    "\n",
    "Masukkan kelimat perintah tersebut untuk menggantikan #[...1...] pada code editor kita dan jalankan. Jika berhasil, perhatikan output confusion matrix dimana labelnya - ditandai dengan warna biru - sudah berubah menjadi teks \"dua\", \"empat\", \"lima\", \"satu\", dan \"tiga\" (diurutkan berdasarkan alfabet).\n",
    "\n",
    "\n",
    "\t   (a)   (b)   (c)   (d)   (e)    <-classified as\n",
    "\t  ----  ----  ----  ----  ----\n",
    "\t    30     3    12    80    14    (a): class dua\n",
    "\t     2    73    31                (b): class empat\n",
    "\t          17    80                (c): class lima\n",
    "\t     1     5     6   179     5    (d): class satu\n",
    "\t     4                     258    (e): class tiga\n",
    "\n",
    "Bandingkan dengan confusion matrix sebelumnya, dimana semua hasilnya tetap konsisten. Hanya saja urutannya berubah.\n",
    "\n",
    "\t   (a)   (b)   (c)   (d)   (e)    <-classified as\n",
    "\t  ----  ----  ----  ----  ----\n",
    "\t   179     1     5     5     6    (a): class 1\n",
    "\t    80    30    14     3    12    (b): class 2\n",
    "\t           4   258                (c): class 3\n",
    "\t           2          73    31    (d): class 4\n",
    "\t                      17    80    (e): class 5\n",
    "\n",
    "Demikian praktek kita kali ini, yang bertujuan untuk memperjelas output confusion matrix dari summary C5.0. Label \"satu\", \"dua\", dstnya hanya untuk menunjukkan, tapi tidak akan digunakan di content berikutnya."
   ]
  },
  {
   "cell_type": "markdown",
   "metadata": {
    "Collapsed": "false"
   },
   "source": [
    "## Variable-variable Penentu\n",
    "\n",
    "Output terakhir adalah daftar variable-variable yang digunakan oleh model decision tree.\n",
    "\n",
    "\tAttribute usage:\n",
    "\n",
    "\t100.00%\tjumlah_tanggungan\n",
    "\t 72.62%\tdurasi_pinjaman_bulan\n",
    "\n",
    "Output tersebut menceritakan tingkat pentingnya penggunaan tiap variable. Disini jumlah_tanggungan menempati urutan pertama dengan nilai 100% dan durasi_pinjaman dengan 72.62%.\n",
    "\n",
    "Ini juga yang menjelaskan kenapa jumlah_tanggungan menempati root node di model kita."
   ]
  },
  {
   "cell_type": "markdown",
   "metadata": {
    "Collapsed": "false"
   },
   "source": [
    "## Diagram Decision Tree C5.0\n",
    "\n",
    "Selain summary teks, kita memiliki output dari hasil plot C5.0 model yang terlihat sebagai berikut.\n",
    "\n",
    "<img src='dia.png'>"
   ]
  },
  {
   "cell_type": "markdown",
   "metadata": {
    "Collapsed": "false"
   },
   "source": [
    "## Elemen dari Plot Decision Tree C5.0\n",
    "\n",
    "Berikut adalah gambar dari plot Decision Tree C5.0 yang telah diberi warna dengan penjelasan berikut (setelah gambar).\n",
    "\n",
    "<img src='dd.png'>\n",
    "\n",
    "- Warna merah menunjukkan node dan penomoran nodenya\n",
    "    - bulatan merah nomor 1 adalah node nomor 1 adalah root node dengan variable penentu jumlah_tanggungan.\n",
    "    - bulatan merah nomor 2 adalah node nomor 2 dengan variable penentu jumlah_tanggungan.\n",
    "    - bulatan merah nomor 3 adalah node nomor 7 adalah leaf node untuk klasifikasi risk_rating.\n",
    "- Warna biru menunjukkan kondisi split ke node-node berikutnya\n",
    "    - bulatan biru nomor 4 menunjukkan kondisi split dimana durasi pinjaman kurang atau sama dengan 24 bulan.\n",
    "    - bulatan biru nomor 5 menunjukkan kondisi split dimana durasi pinjaman lebih dari 24 bulan.\n",
    "- Warna hijau menunjukkan jumlah data yang telah diklasifikasi.\n",
    "    - bulatan hijau nomor 6 menunjukkan hasil klasifikasi sebanyak 98 data.\n",
    "    - bulatan hijau nomor 7 menunjukkan hasil klasifikasi sebanyak 129 data.\n",
    "- Warna ungu menunjukkan hasil klasifikasi dan distribusinya (dalam rentang rasio antara angka 0 dan  1).\n",
    "    - bulatan ungu nomor 8 menunjukkan risk_rating pada node tersebut mayoritas adalah 4, dan dengan demikian model mengambil itu sebagai klasifikasinya. Selain itu risk_rating 5, 1, dan 2 adalah data yang juga sebenarnya jatuh ke dalam kondisi yang berakhir di node nomor 10 ini.\n",
    "    - bulatan ungu nomor 9 menunjukkan risk_rating pada node tersebut mayoritas adalah 5, dan dengan demikian model mengambil itu sebagai klasifikasinya. Selain itu risk_rating 4, 2, dan 1 adalah data yang juga sebenarnya jatuh ke dalam kondisi yang berakhir di node nomor 11 ini."
   ]
  },
  {
   "cell_type": "markdown",
   "metadata": {
    "Collapsed": "false"
   },
   "source": [
    "## Kesimpulan\n",
    "\n",
    "Bab ini memfokuskan diri untuk memberi penjelasan output dari model yang meliputi aspek berikut:\n",
    "\n",
    "- Jumlah baris data yang diproses untuk menghasilkan model.\n",
    "- Jumlah variable yang digunakan untuk menghasilkan model.\n",
    "- Tampilan decision tree.\n",
    "- Statistik error dari model ini.\n",
    "- Confusion matrix yang menampilkan detil dari hasil klasifikasi dan aktual.\n",
    "- Variable-variable yang digunakan dan tingkat pentingnya variable tersebut.\n",
    "\n",
    "Dengan tingkat error 22.5 persen, model ini harusnya cukup layak digunakan. Dari confusion matrix juga terlihat banyak sekali yang diprediksi dengan benar, terutama untuk nilai risk_rating 4 dan 5. Pada bab berikutnya, kita akan evaluasi model ini dengan memprediksi nilai dari testing set. "
   ]
  },
  {
   "cell_type": "markdown",
   "metadata": {
    "Collapsed": "false"
   },
   "source": [
    "# Evaluasi Model"
   ]
  },
  {
   "cell_type": "markdown",
   "metadata": {
    "Collapsed": "false"
   },
   "source": [
    "### Pendahuluan\n",
    "\n",
    "Confusion Matrix yang terdapat pada output model kita sebelumnya adalah evaluasi model menggunakan training set. Namun, kita perlu evaluasi model ini terhadap testing set yang telah kita siapkan.\n",
    "\n",
    "Bab ini akan fokus ke melakukan hal ini dengan cara menggunakan model ini untuk prediksi class variable dari data test kita dan kemudian membandingkan dengan nilai sebenarnya"
   ]
  },
  {
   "cell_type": "markdown",
   "metadata": {
    "Collapsed": "false"
   },
   "source": [
    "## Menggunakan Fungsi Predict\n",
    "\n",
    "Package C50 memiliki fungsi bernama **predict**, yang bisa digunakan untuk melakukan prediksi berdasarkan input model dan data test. Fungsi lengkapnya terlihat sebagai berikut.\n",
    "\n",
    "    predict(model, test_set)\n",
    "\n",
    "dan untuk contoh kita, maka tampilan lengkapnya adalah sebagai berikut.\n",
    "\n",
    "    predict(risk_rating_model, input_testing_set)\n",
    "\n",
    "Gantilah bagian #[...1...] pada code editor dengan perintah di atas dan jalankan. Jika berjalan dengan baik, maka tampilan hasilnya adalah sebagai berikut.\n",
    "\n",
    "    > predict(risk_rating_model, input_testing_set)\n",
    "      [1] 1 3 4 1 5 4 4 2 1 3 3 1 3 3 3 4 3 1 1 3 5 3 5 1 4 4 1 3 3 1 2 3 3 1 3 5 3\n",
    "     [38] 3 3 1 3 3 5 1 5 1 5 1 3 3 4 1 3 1 1 3 1 1 1 5 1 1 3 3 3 1 3 4 1 3 3 3 1 3\n",
    "     [75] 4 3 2 1 3 1 5 5 1 1 4 4 3 2 4 1 1 4 1 3 1 1 1 5 4 3\n",
    "    Levels: 1 2 3 4 5 \n",
    "\n",
    "Terlihat hasil prediksi semua sesuai dengan posisi baris data dari testing set. Dan ini juga sesuai dengan rentang nilai risk_rating, yaitu 1 sampai dengan 5.\n",
    "\n",
    "Pada bagian berikutnya kita akan menyimpan hasil ini ke dalam variable data frame **input_testing_set**."
   ]
  },
  {
   "cell_type": "code",
   "execution_count": 6,
   "metadata": {
    "Collapsed": "false",
    "collapsed": true,
    "jupyter": {
     "outputs_hidden": true
    }
   },
   "outputs": [
    {
     "data": {
      "text/html": [
       "<ol class=list-inline>\n",
       "\t<li>1</li>\n",
       "\t<li>1</li>\n",
       "\t<li>3</li>\n",
       "\t<li>3</li>\n",
       "\t<li>5</li>\n",
       "\t<li>5</li>\n",
       "\t<li>1</li>\n",
       "\t<li>1</li>\n",
       "\t<li>1</li>\n",
       "\t<li>3</li>\n",
       "\t<li>1</li>\n",
       "\t<li>2</li>\n",
       "\t<li>1</li>\n",
       "\t<li>1</li>\n",
       "\t<li>3</li>\n",
       "\t<li>3</li>\n",
       "\t<li>1</li>\n",
       "\t<li>3</li>\n",
       "\t<li>3</li>\n",
       "\t<li>3</li>\n",
       "\t<li>3</li>\n",
       "\t<li>3</li>\n",
       "\t<li>1</li>\n",
       "\t<li>5</li>\n",
       "\t<li>1</li>\n",
       "\t<li>1</li>\n",
       "\t<li>3</li>\n",
       "\t<li>1</li>\n",
       "\t<li>3</li>\n",
       "\t<li>5</li>\n",
       "\t<li>1</li>\n",
       "\t<li>1</li>\n",
       "\t<li>2</li>\n",
       "\t<li>1</li>\n",
       "\t<li>5</li>\n",
       "\t<li>1</li>\n",
       "\t<li>1</li>\n",
       "\t<li>5</li>\n",
       "\t<li>3</li>\n",
       "\t<li>3</li>\n",
       "\t<li>3</li>\n",
       "\t<li>3</li>\n",
       "\t<li>4</li>\n",
       "\t<li>3</li>\n",
       "\t<li>3</li>\n",
       "\t<li>1</li>\n",
       "\t<li>3</li>\n",
       "\t<li>5</li>\n",
       "\t<li>2</li>\n",
       "\t<li>3</li>\n",
       "\t<li>2</li>\n",
       "\t<li>5</li>\n",
       "\t<li>3</li>\n",
       "\t<li>5</li>\n",
       "\t<li>1</li>\n",
       "\t<li>5</li>\n",
       "\t<li>4</li>\n",
       "\t<li>5</li>\n",
       "\t<li>3</li>\n",
       "\t<li>4</li>\n",
       "\t<li>1</li>\n",
       "\t<li>3</li>\n",
       "\t<li>4</li>\n",
       "\t<li>4</li>\n",
       "\t<li>3</li>\n",
       "\t<li>5</li>\n",
       "\t<li>5</li>\n",
       "\t<li>5</li>\n",
       "\t<li>3</li>\n",
       "\t<li>1</li>\n",
       "\t<li>1</li>\n",
       "\t<li>1</li>\n",
       "\t<li>1</li>\n",
       "\t<li>3</li>\n",
       "\t<li>5</li>\n",
       "\t<li>1</li>\n",
       "\t<li>4</li>\n",
       "\t<li>5</li>\n",
       "\t<li>3</li>\n",
       "\t<li>1</li>\n",
       "\t<li>3</li>\n",
       "\t<li>3</li>\n",
       "\t<li>3</li>\n",
       "\t<li>3</li>\n",
       "\t<li>3</li>\n",
       "\t<li>1</li>\n",
       "\t<li>3</li>\n",
       "\t<li>3</li>\n",
       "\t<li>5</li>\n",
       "\t<li>4</li>\n",
       "\t<li>5</li>\n",
       "\t<li>3</li>\n",
       "\t<li>3</li>\n",
       "\t<li>3</li>\n",
       "\t<li>1</li>\n",
       "\t<li>1</li>\n",
       "\t<li>5</li>\n",
       "\t<li>5</li>\n",
       "\t<li>3</li>\n",
       "\t<li>3</li>\n",
       "</ol>\n",
       "\n",
       "<details>\n",
       "\t<summary style=display:list-item;cursor:pointer>\n",
       "\t\t<strong>Levels</strong>:\n",
       "\t</summary>\n",
       "\t<ol class=list-inline>\n",
       "\t\t<li>'1'</li>\n",
       "\t\t<li>'2'</li>\n",
       "\t\t<li>'3'</li>\n",
       "\t\t<li>'4'</li>\n",
       "\t\t<li>'5'</li>\n",
       "\t</ol>\n",
       "</details>"
      ],
      "text/latex": [
       "\\begin{enumerate*}\n",
       "\\item 1\n",
       "\\item 1\n",
       "\\item 3\n",
       "\\item 3\n",
       "\\item 5\n",
       "\\item 5\n",
       "\\item 1\n",
       "\\item 1\n",
       "\\item 1\n",
       "\\item 3\n",
       "\\item 1\n",
       "\\item 2\n",
       "\\item 1\n",
       "\\item 1\n",
       "\\item 3\n",
       "\\item 3\n",
       "\\item 1\n",
       "\\item 3\n",
       "\\item 3\n",
       "\\item 3\n",
       "\\item 3\n",
       "\\item 3\n",
       "\\item 1\n",
       "\\item 5\n",
       "\\item 1\n",
       "\\item 1\n",
       "\\item 3\n",
       "\\item 1\n",
       "\\item 3\n",
       "\\item 5\n",
       "\\item 1\n",
       "\\item 1\n",
       "\\item 2\n",
       "\\item 1\n",
       "\\item 5\n",
       "\\item 1\n",
       "\\item 1\n",
       "\\item 5\n",
       "\\item 3\n",
       "\\item 3\n",
       "\\item 3\n",
       "\\item 3\n",
       "\\item 4\n",
       "\\item 3\n",
       "\\item 3\n",
       "\\item 1\n",
       "\\item 3\n",
       "\\item 5\n",
       "\\item 2\n",
       "\\item 3\n",
       "\\item 2\n",
       "\\item 5\n",
       "\\item 3\n",
       "\\item 5\n",
       "\\item 1\n",
       "\\item 5\n",
       "\\item 4\n",
       "\\item 5\n",
       "\\item 3\n",
       "\\item 4\n",
       "\\item 1\n",
       "\\item 3\n",
       "\\item 4\n",
       "\\item 4\n",
       "\\item 3\n",
       "\\item 5\n",
       "\\item 5\n",
       "\\item 5\n",
       "\\item 3\n",
       "\\item 1\n",
       "\\item 1\n",
       "\\item 1\n",
       "\\item 1\n",
       "\\item 3\n",
       "\\item 5\n",
       "\\item 1\n",
       "\\item 4\n",
       "\\item 5\n",
       "\\item 3\n",
       "\\item 1\n",
       "\\item 3\n",
       "\\item 3\n",
       "\\item 3\n",
       "\\item 3\n",
       "\\item 3\n",
       "\\item 1\n",
       "\\item 3\n",
       "\\item 3\n",
       "\\item 5\n",
       "\\item 4\n",
       "\\item 5\n",
       "\\item 3\n",
       "\\item 3\n",
       "\\item 3\n",
       "\\item 1\n",
       "\\item 1\n",
       "\\item 5\n",
       "\\item 5\n",
       "\\item 3\n",
       "\\item 3\n",
       "\\end{enumerate*}\n",
       "\n",
       "\\emph{Levels}: \\begin{enumerate*}\n",
       "\\item '1'\n",
       "\\item '2'\n",
       "\\item '3'\n",
       "\\item '4'\n",
       "\\item '5'\n",
       "\\end{enumerate*}\n"
      ],
      "text/markdown": [
       "1. 1\n",
       "2. 1\n",
       "3. 3\n",
       "4. 3\n",
       "5. 5\n",
       "6. 5\n",
       "7. 1\n",
       "8. 1\n",
       "9. 1\n",
       "10. 3\n",
       "11. 1\n",
       "12. 2\n",
       "13. 1\n",
       "14. 1\n",
       "15. 3\n",
       "16. 3\n",
       "17. 1\n",
       "18. 3\n",
       "19. 3\n",
       "20. 3\n",
       "21. 3\n",
       "22. 3\n",
       "23. 1\n",
       "24. 5\n",
       "25. 1\n",
       "26. 1\n",
       "27. 3\n",
       "28. 1\n",
       "29. 3\n",
       "30. 5\n",
       "31. 1\n",
       "32. 1\n",
       "33. 2\n",
       "34. 1\n",
       "35. 5\n",
       "36. 1\n",
       "37. 1\n",
       "38. 5\n",
       "39. 3\n",
       "40. 3\n",
       "41. 3\n",
       "42. 3\n",
       "43. 4\n",
       "44. 3\n",
       "45. 3\n",
       "46. 1\n",
       "47. 3\n",
       "48. 5\n",
       "49. 2\n",
       "50. 3\n",
       "51. 2\n",
       "52. 5\n",
       "53. 3\n",
       "54. 5\n",
       "55. 1\n",
       "56. 5\n",
       "57. 4\n",
       "58. 5\n",
       "59. 3\n",
       "60. 4\n",
       "61. 1\n",
       "62. 3\n",
       "63. 4\n",
       "64. 4\n",
       "65. 3\n",
       "66. 5\n",
       "67. 5\n",
       "68. 5\n",
       "69. 3\n",
       "70. 1\n",
       "71. 1\n",
       "72. 1\n",
       "73. 1\n",
       "74. 3\n",
       "75. 5\n",
       "76. 1\n",
       "77. 4\n",
       "78. 5\n",
       "79. 3\n",
       "80. 1\n",
       "81. 3\n",
       "82. 3\n",
       "83. 3\n",
       "84. 3\n",
       "85. 3\n",
       "86. 1\n",
       "87. 3\n",
       "88. 3\n",
       "89. 5\n",
       "90. 4\n",
       "91. 5\n",
       "92. 3\n",
       "93. 3\n",
       "94. 3\n",
       "95. 1\n",
       "96. 1\n",
       "97. 5\n",
       "98. 5\n",
       "99. 3\n",
       "100. 3\n",
       "\n",
       "\n",
       "\n",
       "**Levels**: 1. '1'\n",
       "2. '2'\n",
       "3. '3'\n",
       "4. '4'\n",
       "5. '5'\n",
       "\n",
       "\n"
      ],
      "text/plain": [
       "  [1] 1 1 3 3 5 5 1 1 1 3 1 2 1 1 3 3 1 3 3 3 3 3 1 5 1 1 3 1 3 5 1 1 2 1 5 1 1\n",
       " [38] 5 3 3 3 3 4 3 3 1 3 5 2 3 2 5 3 5 1 5 4 5 3 4 1 3 4 4 3 5 5 5 3 1 1 1 1 3\n",
       " [75] 5 1 4 5 3 1 3 3 3 3 3 1 3 3 5 4 5 3 3 3 1 1 5 5 3 3\n",
       "Levels: 1 2 3 4 5"
      ]
     },
     "metadata": {},
     "output_type": "display_data"
    }
   ],
   "source": [
    "library(\"openxlsx\")\n",
    "library(\"C50\")\n",
    "\n",
    "#Mempersiapkan data\n",
    "dataCreditRating <- read.xlsx(xlsxFile = \"https://academy.dqlab.id/dataset/credit_scoring_dqlab.xlsx\")\n",
    "\n",
    "#Mempersiapkan class dan input variables \n",
    "dataCreditRating$risk_rating <- as.factor(dataCreditRating$risk_rating) \n",
    "input_columns <- c(\"durasi_pinjaman_bulan\", \"jumlah_tanggungan\")\n",
    "datafeed <- dataCreditRating[ , input_columns ]\n",
    "\n",
    "#Mempersiapkan training dan testing set\n",
    "set.seed(100) #untuk menyeragamkan hasil random antar tiap komputer\n",
    "indeks_training_set <- sample(900, 800)\n",
    "\n",
    "#Membuat dan menampilkan training set dan testing set\n",
    "input_training_set <- datafeed[indeks_training_set,]\n",
    "class_training_set <- dataCreditRating[indeks_training_set,]$risk_rating\n",
    "input_testing_set <- datafeed[-indeks_training_set,]\n",
    "\n",
    "#menghasilkan model\n",
    "risk_rating_model <- C5.0(input_training_set, class_training_set, control = C5.0Control(label=\"Risk Rating\"))\n",
    "\n",
    "#menggunakan model untuk prediksi testing set\n",
    "predict(risk_rating_model, input_testing_set)\n"
   ]
  },
  {
   "cell_type": "markdown",
   "metadata": {
    "Collapsed": "false"
   },
   "source": [
    "## Menggabungkan Hasil Prediksi\n",
    "\n",
    "Seperti diinformasikan pada subbab sebelumnya, kita akan menyimpan risk_rating dari dataset awal dan hasil prediksi ini ke dalam dua kolom nama yang lain di data frame **input_testing_set**. Mari kita namakan kolom tersebut dengan **risk_rating** dan  **hasil_prediksi**.\n",
    "\n",
    "Kita gunakan perintah pertama untuk menyimpan nilai asli risk_rating ke dalam kolom risk_rating.\n",
    "\n",
    "    input_testing_set$risk_rating <- dataCreditRating[-indeks_training_set,]$risk_rating\n",
    "\n",
    "Catatan: Ingat jika -index_training_set (dengan tanda minus di depan) menunjukkan angka-angka indeks untuk testing set.\n",
    "\n",
    "Kemudian gunakan perintah kedua untuk menyimpan nilai prediksi ke dalam kolom hasil_prediksi.\n",
    "\n",
    "    input_testing_set$hasil_prediksi <- predict(risk_rating_model, input_testing_set)\n",
    "\n",
    "Masukkan perintah tersebut untuk menggantikan bagian #[...1...] pada code editor. Setelah itu coba ganti bagian [...2...] dengan perintah untuk menampilkan seluruh isi variable input_testing_set dengan perintah berikut.\n",
    "\n",
    "    print(input_testing_set)\n",
    "\n",
    "Jika semua berjalan lancar maka akan tampil output sebagai berikut. Dengan kolom risk_rating dan hasil_prediksi bersampingan, kita bisa langsung bandingkan data awal dengan hasil prediksi. Terlihat ada rating yang sama (prediksi benar) dan berbeda (prediksi salah). Kita akan evaluasi tingkat akurasi dari kedua kolom ini dengan menghasilkan confusion matrix pada bagian selanjutnya.\n",
    "\n"
   ]
  },
  {
   "cell_type": "code",
   "execution_count": 7,
   "metadata": {
    "Collapsed": "false"
   },
   "outputs": [
    {
     "data": {
      "text/html": [
       "<table>\n",
       "<thead><tr><th></th><th scope=col>durasi_pinjaman_bulan</th><th scope=col>jumlah_tanggungan</th><th scope=col>risk_rating</th><th scope=col>hasil_prediksi</th></tr></thead>\n",
       "<tbody>\n",
       "\t<tr><th scope=row>3</th><td>12</td><td>0 </td><td>1 </td><td>1 </td></tr>\n",
       "\t<tr><th scope=row>5</th><td>36</td><td>0 </td><td>2 </td><td>1 </td></tr>\n",
       "\t<tr><th scope=row>8</th><td>48</td><td>3 </td><td>2 </td><td>3 </td></tr>\n",
       "\t<tr><th scope=row>40</th><td>36</td><td>3 </td><td>2 </td><td>3 </td></tr>\n",
       "\t<tr><th scope=row>41</th><td>48</td><td>6 </td><td>2 </td><td>5 </td></tr>\n",
       "\t<tr><th scope=row>44</th><td>48</td><td>5 </td><td>2 </td><td>5 </td></tr>\n",
       "</tbody>\n",
       "</table>\n"
      ],
      "text/latex": [
       "\\begin{tabular}{r|llll}\n",
       "  & durasi\\_pinjaman\\_bulan & jumlah\\_tanggungan & risk\\_rating & hasil\\_prediksi\\\\\n",
       "\\hline\n",
       "\t3 & 12 & 0  & 1  & 1 \\\\\n",
       "\t5 & 36 & 0  & 2  & 1 \\\\\n",
       "\t8 & 48 & 3  & 2  & 3 \\\\\n",
       "\t40 & 36 & 3  & 2  & 3 \\\\\n",
       "\t41 & 48 & 6  & 2  & 5 \\\\\n",
       "\t44 & 48 & 5  & 2  & 5 \\\\\n",
       "\\end{tabular}\n"
      ],
      "text/markdown": [
       "\n",
       "| <!--/--> | durasi_pinjaman_bulan | jumlah_tanggungan | risk_rating | hasil_prediksi |\n",
       "|---|---|---|---|---|\n",
       "| 3 | 12 | 0  | 1  | 1  |\n",
       "| 5 | 36 | 0  | 2  | 1  |\n",
       "| 8 | 48 | 3  | 2  | 3  |\n",
       "| 40 | 36 | 3  | 2  | 3  |\n",
       "| 41 | 48 | 6  | 2  | 5  |\n",
       "| 44 | 48 | 5  | 2  | 5  |\n",
       "\n"
      ],
      "text/plain": [
       "   durasi_pinjaman_bulan jumlah_tanggungan risk_rating hasil_prediksi\n",
       "3  12                    0                 1           1             \n",
       "5  36                    0                 2           1             \n",
       "8  48                    3                 2           3             \n",
       "40 36                    3                 2           3             \n",
       "41 48                    6                 2           5             \n",
       "44 48                    5                 2           5             "
      ]
     },
     "metadata": {},
     "output_type": "display_data"
    }
   ],
   "source": [
    "#menyimpan hasil prediksi testing set ke dalam kolom hasil_prediksi\n",
    "input_testing_set$risk_rating <- dataCreditRating[-indeks_training_set,]$risk_rating\n",
    "input_testing_set$hasil_prediksi <- predict(risk_rating_model, input_testing_set)\n",
    "head(input_testing_set)"
   ]
  },
  {
   "cell_type": "markdown",
   "metadata": {
    "Collapsed": "false"
   },
   "source": [
    "## Membuat Table Confusion Matrix\n",
    "\n",
    "Setelah hasil prediksi terhadap testing set selesai, langkah berikutnya kita coba lihat distribusi mana yang terprediksi dengan benar dan salah. Ini kita lakukan dengan confusion matrix.\n",
    "\n",
    "Untuk menghasilkan ini kita bisa gunakan fungsi dcast dari package reshape2, caranya adalah sebagai berikut.\n",
    "\n",
    "    dcast(kolom ~ baris, dataframe)\n",
    "\n",
    "Dan untuk kasus kita, maka modifikasi perintahnya adalah sebagai berikut.\n",
    "\n",
    "    dcast(hasil_prediksi ~ risk_rating, data=input_testing_set)\n",
    "\n",
    "Gunakan perintah tersebut untuk menggantikan bagian #[...1...] - setelah perintah penggabungan input variables dan hasil prediksi.\n",
    "\n",
    "      hasil_prediksi  1 2  3 4 5\n",
    "    1              1 29 6  0 0 0\n",
    "    2              2  1 3  0 0 0\n",
    "    3              3  0 7 29 0 0\n",
    "    4              4  1 3  0 9 1\n",
    "    5              5  0 1  0 5 5 \n",
    "\n",
    "Yang kita perhatikan adalah bagian berwarna berikut:\n",
    "\n",
    "       hasil_prediksi  1 2  3 4 5\n",
    "    1               1 29 6  0 0 0\n",
    "    2               2  1 3  0 0 0\n",
    "    3               3  0 7 29 0 0\n",
    "    4               4  1 3  0 9 1\n",
    "    5               5  0 1  0 5 5\n",
    "\n",
    "Header kolom yang berwarna ungu menunjukkan risk_rating hasil prediksi, sedangkan header baris warna ungu menunjukkan data **risk_rating** sebenarnya. Diagonal warna biru menunjukkan jumlah data yang terprediksi dengan benar, dan warna merah menunjukkan data yang salah terprediksi.\n",
    "\n",
    "Sekilas terlihat jumlah yang terprediksi dengan benar jauh lebih besar porsinya dibandingkan yang salah. Namun untuk yang 4 dan 5 ada sedikit catatan diman prediksi 5 itu kadang jatuh ke 4. Namun ini bisa kita abaikan, karena 4 dan 5 memang beresiko tinggi.\n",
    "\n",
    "Untuk rasio persentase kebenaran dan kesalahan prediksi lebih detil akan kita hitung pada bagian berikutnya. Klik tombol Submit Code untuk melanjutkan."
   ]
  },
  {
   "cell_type": "code",
   "execution_count": 8,
   "metadata": {
    "Collapsed": "false"
   },
   "outputs": [],
   "source": [
    "library(\"reshape2\")"
   ]
  },
  {
   "cell_type": "code",
   "execution_count": 9,
   "metadata": {
    "Collapsed": "false"
   },
   "outputs": [
    {
     "name": "stderr",
     "output_type": "stream",
     "text": [
      "Using hasil_prediksi as value column: use value.var to override.\n",
      "Aggregation function missing: defaulting to length\n"
     ]
    },
    {
     "data": {
      "text/html": [
       "<table>\n",
       "<thead><tr><th scope=col>hasil_prediksi</th><th scope=col>1</th><th scope=col>2</th><th scope=col>3</th><th scope=col>4</th><th scope=col>5</th></tr></thead>\n",
       "<tbody>\n",
       "\t<tr><td>1 </td><td>24</td><td>6 </td><td> 0</td><td>0 </td><td> 0</td></tr>\n",
       "\t<tr><td>2 </td><td> 0</td><td>3 </td><td> 1</td><td>0 </td><td> 0</td></tr>\n",
       "\t<tr><td>3 </td><td> 0</td><td>2 </td><td>37</td><td>0 </td><td> 0</td></tr>\n",
       "\t<tr><td>4 </td><td> 0</td><td>0 </td><td> 0</td><td>7 </td><td> 0</td></tr>\n",
       "\t<tr><td>5 </td><td> 0</td><td>2 </td><td> 0</td><td>2 </td><td>16</td></tr>\n",
       "</tbody>\n",
       "</table>\n"
      ],
      "text/latex": [
       "\\begin{tabular}{r|llllll}\n",
       " hasil\\_prediksi & 1 & 2 & 3 & 4 & 5\\\\\n",
       "\\hline\n",
       "\t 1  & 24 & 6  &  0 & 0  &  0\\\\\n",
       "\t 2  &  0 & 3  &  1 & 0  &  0\\\\\n",
       "\t 3  &  0 & 2  & 37 & 0  &  0\\\\\n",
       "\t 4  &  0 & 0  &  0 & 7  &  0\\\\\n",
       "\t 5  &  0 & 2  &  0 & 2  & 16\\\\\n",
       "\\end{tabular}\n"
      ],
      "text/markdown": [
       "\n",
       "| hasil_prediksi | 1 | 2 | 3 | 4 | 5 |\n",
       "|---|---|---|---|---|---|\n",
       "| 1  | 24 | 6  |  0 | 0  |  0 |\n",
       "| 2  |  0 | 3  |  1 | 0  |  0 |\n",
       "| 3  |  0 | 2  | 37 | 0  |  0 |\n",
       "| 4  |  0 | 0  |  0 | 7  |  0 |\n",
       "| 5  |  0 | 2  |  0 | 2  | 16 |\n",
       "\n"
      ],
      "text/plain": [
       "  hasil_prediksi 1  2 3  4 5 \n",
       "1 1              24 6  0 0  0\n",
       "2 2               0 3  1 0  0\n",
       "3 3               0 2 37 0  0\n",
       "4 4               0 0  0 7  0\n",
       "5 5               0 2  0 2 16"
      ]
     },
     "metadata": {},
     "output_type": "display_data"
    }
   ],
   "source": [
    "dcast(data = input_testing_set, hasil_prediksi~risk_rating)"
   ]
  },
  {
   "cell_type": "markdown",
   "metadata": {
    "Collapsed": "false"
   },
   "source": [
    "## Jumlah Data dengan Prediksi Benar\n",
    " \n",
    "Untuk menghitung persentase error, kita bisa menghitung terlebih dahulu jumlah data dengan prediksi yang benar. Hasil dikatakan benar jika data risk_rating sama dengan hasil_prediksi. Ini kalau kita tuliskan dengan code adalah sebagai berikut.\n",
    "\n",
    "    input_testing_set$risk_rating==input_testing_set$hasil_prediksi\n",
    "\n",
    "Di sini kita gunakan operator == untuk membandingkan. Cobalah ketik perintah tersebut  untuk menggantikan bagian [...1...] dan jalankan. Jika berhasil maka akan keluar input tersebut.\n",
    "\n",
    "    > input_testing_set$risk_rating==input_testing_set$hasil_prediksi\n",
    "      [1]  TRUE FALSE FALSE  TRUE FALSE FALSE FALSE FALSE  TRUE FALSE FALSE  TRUE\n",
    "     [13] FALSE FALSE FALSE FALSE FALSE  TRUE  TRUE  TRUE FALSE  TRUE FALSE  TRUE\n",
    "     [25]  TRUE FALSE  TRUE  TRUE  TRUE  TRUE  TRUE  TRUE  TRUE  TRUE  TRUE  TRUE\n",
    "     [37]  TRUE  TRUE  TRUE  TRUE  TRUE  TRUE FALSE  TRUE  TRUE FALSE FALSE  TRUE\n",
    "     [49]  TRUE  TRUE  TRUE  TRUE  TRUE  TRUE FALSE  TRUE  TRUE FALSE  TRUE  TRUE\n",
    "     [61]  TRUE  TRUE  TRUE  TRUE  TRUE  TRUE  TRUE  TRUE  TRUE  TRUE  TRUE  TRUE\n",
    "     [73] FALSE  TRUE  TRUE  TRUE  TRUE  TRUE  TRUE  TRUE FALSE  TRUE  TRUE  TRUE\n",
    "     [85]  TRUE  TRUE  TRUE  TRUE  TRUE  TRUE  TRUE  TRUE  TRUE  TRUE FALSE FALSE\n",
    "     [97]  TRUE  TRUE  TRUE  TRUE\n",
    "Ini artinya kalau TRUE maka data pada posisi tersebut prediksinya benar dan FALSE untuk sebaliknya, data pada posisi tersebut salah prediksinya. Namun ini masih belum dalam bentuk yang kita inginkan. Kita masih perlu beberapa tambahan perintah tersebut untuk mengeluarkan persentase prediksi yang tepat.\n",
    "\n",
    "Langkah berikutnya, adalah menyaring data frame tersebut dengan hasil tadi dengan perintah berikut.\n",
    "\n",
    "    input_testing_set[input_testing_set$risk_rating==input_testing_set$hasil_prediksi,]\n",
    "\n",
    "Jika dijalankan dan berhasil dengan baik, maka akan muncul sebagian hasil output berikut.\n",
    "\n",
    "        durasi_pinjaman_bulan jumlah_tanggungan risk_rating hasil_prediksi\n",
    "    3                      12                 0           1              1\n",
    "    26                     12                 0           1              1\n",
    "    49                     36                 2           1              1\n",
    "    58                     12                 0           1              1\n",
    "    97                     12                 0           1              1\n",
    "    112                    12                 0           1              1\n",
    "    117                    24                 3           3              3\n",
    "    125                    36                 4           3              3\n",
    "    162                    12                 0           1              1\n",
    "    ...\n",
    "\n",
    "Terlihat semua hasil filtering memiliki nilai yang sama untuk kolom **risk_rating** dan **hasil_prediksi**. Kita kemudian akan menghitung jumlah baris filtering ini dengan menambahkan fungsi **nrow** terhadap perintah di atas, sebagai berikut.\n",
    "\n",
    "     nrow(input_testing_set[input_testing_set$risk_rating==input_testing_set$hasil_prediksi,])\n",
    " \n",
    "\n",
    "Jika berjalan dengan lancar, maka hasil outputnya adalah sebagai berikut.\n",
    "\n",
    "    > nrow(input_testing_set[input_testing_set$risk_rating==input_testing_set$hasil_prediksi,])\n",
    "    [1] 75\n",
    " \n",
    "Angka 75 ini menunjukkan jumlah data dengan prediksi yang benar terhadap testing set. Karena testing set berjumlah 100, maka persentase prediksi yang benar adalah 75%, dan error rate atau persentase yang salah adalah 25%.\n",
    "\n",
    "Mari kita cek hasil tersebut dengan menjumlahkan posisi diagonal pada confusion matrix kita sebelumnya.\n",
    "\n",
    "       hasil_prediksi  1 2  3 4 5\n",
    "    1               1 29 6  0 0 0\n",
    "    2               2  1 3  0 0 0\n",
    "    3               3  0 7 29 0 0\n",
    "    4               4  1 3  0 9 1\n",
    "    5               5  0 1  0 5 5\n",
    "\n",
    "Hasilnya juga 75 yang merupakan hasil dari operasi penjumlah 29 + 3 + 29 + 9 + 5. Klik tombol Submit Code untuk melanjutkan."
   ]
  },
  {
   "cell_type": "code",
   "execution_count": 10,
   "metadata": {
    "Collapsed": "false"
   },
   "outputs": [
    {
     "name": "stderr",
     "output_type": "stream",
     "text": [
      "Using hasil_prediksi as value column: use value.var to override.\n",
      "Aggregation function missing: defaulting to length\n"
     ]
    },
    {
     "data": {
      "text/html": [
       "<table>\n",
       "<thead><tr><th scope=col>hasil_prediksi</th><th scope=col>1</th><th scope=col>2</th><th scope=col>3</th><th scope=col>4</th><th scope=col>5</th></tr></thead>\n",
       "<tbody>\n",
       "\t<tr><td>1 </td><td>24</td><td>6 </td><td> 0</td><td>0 </td><td> 0</td></tr>\n",
       "\t<tr><td>2 </td><td> 0</td><td>3 </td><td> 1</td><td>0 </td><td> 0</td></tr>\n",
       "\t<tr><td>3 </td><td> 0</td><td>2 </td><td>37</td><td>0 </td><td> 0</td></tr>\n",
       "\t<tr><td>4 </td><td> 0</td><td>0 </td><td> 0</td><td>7 </td><td> 0</td></tr>\n",
       "\t<tr><td>5 </td><td> 0</td><td>2 </td><td> 0</td><td>2 </td><td>16</td></tr>\n",
       "</tbody>\n",
       "</table>\n"
      ],
      "text/latex": [
       "\\begin{tabular}{r|llllll}\n",
       " hasil\\_prediksi & 1 & 2 & 3 & 4 & 5\\\\\n",
       "\\hline\n",
       "\t 1  & 24 & 6  &  0 & 0  &  0\\\\\n",
       "\t 2  &  0 & 3  &  1 & 0  &  0\\\\\n",
       "\t 3  &  0 & 2  & 37 & 0  &  0\\\\\n",
       "\t 4  &  0 & 0  &  0 & 7  &  0\\\\\n",
       "\t 5  &  0 & 2  &  0 & 2  & 16\\\\\n",
       "\\end{tabular}\n"
      ],
      "text/markdown": [
       "\n",
       "| hasil_prediksi | 1 | 2 | 3 | 4 | 5 |\n",
       "|---|---|---|---|---|---|\n",
       "| 1  | 24 | 6  |  0 | 0  |  0 |\n",
       "| 2  |  0 | 3  |  1 | 0  |  0 |\n",
       "| 3  |  0 | 2  | 37 | 0  |  0 |\n",
       "| 4  |  0 | 0  |  0 | 7  |  0 |\n",
       "| 5  |  0 | 2  |  0 | 2  | 16 |\n",
       "\n"
      ],
      "text/plain": [
       "  hasil_prediksi 1  2 3  4 5 \n",
       "1 1              24 6  0 0  0\n",
       "2 2               0 3  1 0  0\n",
       "3 3               0 2 37 0  0\n",
       "4 4               0 0  0 7  0\n",
       "5 5               0 2  0 2 16"
      ]
     },
     "metadata": {},
     "output_type": "display_data"
    }
   ],
   "source": [
    "dcast(data = input_testing_set, hasil_prediksi~risk_rating)"
   ]
  },
  {
   "cell_type": "code",
   "execution_count": 11,
   "metadata": {
    "Collapsed": "false"
   },
   "outputs": [
    {
     "data": {
      "text/html": [
       "87"
      ],
      "text/latex": [
       "87"
      ],
      "text/markdown": [
       "87"
      ],
      "text/plain": [
       "[1] 87"
      ]
     },
     "metadata": {},
     "output_type": "display_data"
    }
   ],
   "source": [
    "nrow(input_testing_set[input_testing_set$risk_rating==input_testing_set$hasil_prediksi,])"
   ]
  },
  {
   "cell_type": "markdown",
   "metadata": {
    "Collapsed": "false"
   },
   "source": [
    "## Jumlah Data dengan Prediksi Salah\n",
    "\n",
    "Pada praktek sebelumnya, kita menggunakan operator == untuk membandingkan kesamaan antara kolom risk_rating dengan hasil_prediksi. Bagaimana kalau kita hanya ingin mencari yang tidak sama, dengan kata lain mencari yang salah prediksinya?\n",
    "\n",
    "Untuk ini cukup simpel, kita bisa menggunakan operator != sehingga kondisi pengecekan sebelumnya menjadi seperti berikut.\n",
    "\n",
    "    nrow(input_testing_set[input_testing_set$risk_rating!=input_testing_set$hasil_prediksi,])\n",
    "\n",
    "Cari dan gantilah operator == pada perbandingan hasil ini dengan !=. Jika berjalan dengan lancar maka akan mengeluarkan hasil berikut.\n",
    "\n",
    "    > nrow(input_testing_set[input_testing_set$risk_rating!=input_testing_set$hasil_prediksi,])\n",
    "    [1] 25\n",
    "\n",
    "Terlihat bahwa jumlah prediksi error ada 25. Hasil ini konsisten jika dibandingkan dengan jumlah 75 dari prediksi yang benar, dimana total keduanya adalah 100 - yang merupakan jumlah data untuk testing set. Klik tombol Submit Code untuk melanjutkan ke bagian berikutnya. "
   ]
  },
  {
   "cell_type": "code",
   "execution_count": 13,
   "metadata": {
    "Collapsed": "false"
   },
   "outputs": [
    {
     "data": {
      "text/html": [
       "13"
      ],
      "text/latex": [
       "13"
      ],
      "text/markdown": [
       "13"
      ],
      "text/plain": [
       "[1] 13"
      ]
     },
     "metadata": {},
     "output_type": "display_data"
    }
   ],
   "source": [
    "#Menghitung jumlah prediksi yang salah\n",
    "nrow(input_testing_set[input_testing_set$risk_rating!=input_testing_set$hasil_prediksi,])"
   ]
  },
  {
   "cell_type": "markdown",
   "metadata": {
    "Collapsed": "false"
   },
   "source": [
    "## Kesimpulan\n",
    "\n",
    "Bab ini berisi praktek yang cukup singkat, namun menjadi bagian yang sangat penting yaitu untuk pertama kalinya kita melakukan prediksi dengan function predict terhadap porsi data testing set.\n",
    "\n",
    "Tujuannya adalah mengukur akurasi dari hasil prediksi dengan data awal. Ini digunakan dengan menggunakan confusion matrix  juga dan menghitung jumlah prediksi data yang benar dan salah secara agak \"manual\". Pendekatan terakhir adalah membandingkan data awal dan hasil prediksi di data frame dengan operator ==,  !=, dan nrow.\n",
    "\n",
    "Dengan tingkat error 25%, dan walaupun ada catatan untuk klasifikasi 4 dan 5, namun secara garis besar kita anggap model ini cukup baik. Dan dengan keputusan ini, saatnya kita mengadopsi model ini untuk melakukan prediksi per data aplikasi kredit baru yang masuk."
   ]
  },
  {
   "cell_type": "markdown",
   "metadata": {
    "Collapsed": "false"
   },
   "source": [
    "# Menggunakan Model untuk Prediksi"
   ]
  },
  {
   "cell_type": "markdown",
   "metadata": {
    "Collapsed": "false"
   },
   "source": [
    "## Pendahuluan\n",
    "\n",
    "Tahap terakhir setelah kita melakukan evaluasi dan yakin akan akurasinya, model akan kita gunakan dalam keseharian untuk melakukan prediksi risk rating dari data baru.\n",
    "\n"
   ]
  },
  {
   "cell_type": "markdown",
   "metadata": {
    "Collapsed": "false"
   },
   "source": [
    "## Mempersiapkan Data Pengajuan Baru\n",
    "\n",
    "Data pengajuan baru perlu dibentuk sebagai satu data frame dengan input dimana nama-nama variable yang digunakan harus sama persis. Dari awal pemodelan, kita menggunakan dua variable yakni:\n",
    "\n",
    "- jumlah_tanggungan\n",
    "- durasi_pinjaman_bulan\n",
    "\n",
    "Keduanya dalam bentuk numerik (angka). Dan berikut adalah contoh membentuk data frame dengan dua variable tersebut.\n",
    "\n",
    "    aplikasi_baru <- data.frame(jumlah_tanggungan = 6, durasi_pinjaman_bulan = 12)\n",
    "\n",
    "Code tersebut sudah terdapat pada code editor. Namun, Anda perlu tampilkan variable tersebut dengan perintah print. Jika berhasil jalankan dengan lancar maka akan muncul hasil sebagai berikut.\n",
    "\n",
    "      jumlah_tanggungan durasi_pinjaman_bulan\n",
    "    1                 6                    12\n",
    "\n",
    "Kita akan gunakan data frame ini sebagai input untuk prediksi di bagian berikutnya."
   ]
  },
  {
   "cell_type": "code",
   "execution_count": 15,
   "metadata": {
    "Collapsed": "false"
   },
   "outputs": [],
   "source": [
    "aplikasi_baru <- data.frame(jumlah_tanggungan = 6, durasi_pinjaman_bulan = 12)\n"
   ]
  },
  {
   "cell_type": "markdown",
   "metadata": {
    "Collapsed": "false"
   },
   "source": [
    "## Melakukan Prediksi terhadap Data Pengajuan Baru\n",
    "\n",
    "Data aplikasi baru yang telah kita buat sebelumnya akan diprediksi nilai risk_rating-nya dengan fungsi predict, dimana cara penggunaannya masih sama dengan cara yang ditunjukkan pada bab evaluasi model, yaitu dengan syntax berikut.\n",
    "\n",
    "    predict(model, dataframe)\n",
    "\n",
    "Code editor telah terisi code-code yang digunakan untuk membentuk model dan data frame aplikasi baru. Gantilah bagian [...1...] dengan code untuk melakukan prediksi. Sesuaikan perintah di atas dengan nama model dan variable yang digunakan. Variable risk_rating_model sebagai model dan aplikasi_baru sebagai data frame yang akan di prediksi.\n",
    "\n",
    "Jika berjalan dengan lancar maka output dari perintah tersebut akan muncul sebagai berikut.\n",
    "\n",
    "    [1] 4\n",
    "    Levels: 1 2 3 4 5\n",
    "\n",
    "Ini artinya hasil prediksi risk_rating untuk aplikasi baru ini adalah 4, dari kemungkinan 1, 2, 3, 4 dan 5. Nilai 4 ini adalah nilai resiko yang cukup tinggi, jadi bisa saja aplikasi baru ini ditolak sesuai dengan kebijakan lembaga peminjam."
   ]
  },
  {
   "cell_type": "code",
   "execution_count": 16,
   "metadata": {
    "Collapsed": "false"
   },
   "outputs": [
    {
     "data": {
      "text/html": [
       "4\n",
       "<details>\n",
       "\t<summary style=display:list-item;cursor:pointer>\n",
       "\t\t<strong>Levels</strong>:\n",
       "\t</summary>\n",
       "\t<ol class=list-inline>\n",
       "\t\t<li>'1'</li>\n",
       "\t\t<li>'2'</li>\n",
       "\t\t<li>'3'</li>\n",
       "\t\t<li>'4'</li>\n",
       "\t\t<li>'5'</li>\n",
       "\t</ol>\n",
       "</details>"
      ],
      "text/latex": [
       "4\n",
       "\\emph{Levels}: \\begin{enumerate*}\n",
       "\\item '1'\n",
       "\\item '2'\n",
       "\\item '3'\n",
       "\\item '4'\n",
       "\\item '5'\n",
       "\\end{enumerate*}\n"
      ],
      "text/markdown": [
       "4\n",
       "**Levels**: 1. '1'\n",
       "2. '2'\n",
       "3. '3'\n",
       "4. '4'\n",
       "5. '5'\n",
       "\n",
       "\n"
      ],
      "text/plain": [
       "[1] 4\n",
       "Levels: 1 2 3 4 5"
      ]
     },
     "metadata": {},
     "output_type": "display_data"
    }
   ],
   "source": [
    "predict(risk_rating_model, aplikasi_baru)"
   ]
  },
  {
   "cell_type": "markdown",
   "metadata": {
    "Collapsed": "false"
   },
   "source": [
    "## Merubah Durasi Pinjaman\n",
    "\n",
    "Pada pelajaran sebelumnya kita sudah mempelajari cara memprediksi dari data frame berdasarkan model yang telah dibuat. Sekarang kita mencoba memprediksi dari data yang tidak ada dari data set yang dijadikan model.\n",
    "\n",
    "Pada console gantilah pada [...1...] yang menunjukan durasi pinjaman selama 64 bulan.\n",
    "\n",
    "Jika berjalan dengan lancar maka output dari perintah tersebut akan muncul sebagai berikut.\n",
    "\n",
    "    [1] 5\n",
    "    Levels: 1 2 3 4 5\n",
    "    \n",
    "Ini artinya hasil prediksi risk_rating untuk aplikasi baru ini adalah 5, dari kemungkinan 1, 2, 3, 4 dan 5. Nilai 5 ini adalah nilai resiko yang sangat tinggi dikarenakan durasi peminjaman tidak termasuk dalam data yang di lakukan model."
   ]
  },
  {
   "cell_type": "code",
   "execution_count": 17,
   "metadata": {
    "Collapsed": "false"
   },
   "outputs": [],
   "source": [
    "#Membuat data frame aplikasi baru\n",
    "aplikasi_baru <- data.frame(jumlah_tanggungan = 6, durasi_pinjaman_bulan = 64)"
   ]
  },
  {
   "cell_type": "code",
   "execution_count": 18,
   "metadata": {
    "Collapsed": "false"
   },
   "outputs": [
    {
     "data": {
      "text/html": [
       "5\n",
       "<details>\n",
       "\t<summary style=display:list-item;cursor:pointer>\n",
       "\t\t<strong>Levels</strong>:\n",
       "\t</summary>\n",
       "\t<ol class=list-inline>\n",
       "\t\t<li>'1'</li>\n",
       "\t\t<li>'2'</li>\n",
       "\t\t<li>'3'</li>\n",
       "\t\t<li>'4'</li>\n",
       "\t\t<li>'5'</li>\n",
       "\t</ol>\n",
       "</details>"
      ],
      "text/latex": [
       "5\n",
       "\\emph{Levels}: \\begin{enumerate*}\n",
       "\\item '1'\n",
       "\\item '2'\n",
       "\\item '3'\n",
       "\\item '4'\n",
       "\\item '5'\n",
       "\\end{enumerate*}\n"
      ],
      "text/markdown": [
       "5\n",
       "**Levels**: 1. '1'\n",
       "2. '2'\n",
       "3. '3'\n",
       "4. '4'\n",
       "5. '5'\n",
       "\n",
       "\n"
      ],
      "text/plain": [
       "[1] 5\n",
       "Levels: 1 2 3 4 5"
      ]
     },
     "metadata": {},
     "output_type": "display_data"
    }
   ],
   "source": [
    "predict(risk_rating_model, aplikasi_baru)"
   ]
  },
  {
   "cell_type": "markdown",
   "metadata": {
    "Collapsed": "false"
   },
   "source": [
    "## Kesimpulan\n",
    "\n",
    "Bab ini telah menunjukkan bagaimana kita melakukan prediksi nilai resiko kredit (risk_rating) terhadap data aplikasi baru.\n",
    "\n",
    "Fungsi yang digunakna sangat sederhana, tetapi kita perlu ketat dengan syarat ketika menyiapkan input:\n",
    "\n",
    "- Input berupa data frame.\n",
    "- Kolom-kolom di dalam data frame harus sama dengan input yang digunakan untuk menghasilkan model.\n",
    "\n",
    "Jika syarat tidak terpenuhi, misalkan kita memiliki kelebihan satu kolom data frame yang tidak digunakan pada saat memberikan input ke model akan berakibat error pada saat melakukan prediksi."
   ]
  },
  {
   "cell_type": "markdown",
   "metadata": {
    "Collapsed": "false"
   },
   "source": [
    "# Penutup"
   ]
  },
  {
   "cell_type": "markdown",
   "metadata": {
    "Collapsed": "false"
   },
   "source": [
    "## Kesimpulan\n",
    "\n",
    "Selamat, Anda sudah berhasil menyelesaikan seluruh content pada course ini. Pada course ini Anda telah mempelajari mengenai kasus bisnis resiko kredit pada dunia finance. Dengan mengerti apa pengertian credit risk, credit scoring, risk rating dan problem-problem yang dihadapi kita dapat maju ke pencarian solusi yang tepat.\n",
    "\n",
    "Problem yang dihadapi adalah lambatnya analisa resiko sehingga lembaga kredit bisa kehilangan kesempatan (lost opportunity) ketika calon peminjam tidak jadi bertransaksi.\n",
    "\n",
    "Solusi machine learning denga algoritma decision tree sangat cocok diterapkan untuk membantu memprediksi credit risk dengan cepat. Konkritnya adalah penggunaan algoritma C5.0 di R.\n",
    "\n",
    "Terkait hal tersebut, sepanjang bab ini Anda telah menempuh perjalanan sebagai seorang data scientist yang menerapkan solusi tersebut:\n",
    "\n",
    "- Mengerti apa itu decision tree dan algoritma C5.0.\n",
    "- Melakukan data preparation untuk class variable dan input variable.\n",
    "- Melakukan data preparation untuk training dan testing set.\n",
    "- Menggunakan training set untuk menghasilkan model credit risk menggunakan algoritma C5.0.\n",
    "- Mengevaluasi akurasi decision credit risk.\n",
    "- Menggunakan model tersebut untuk memprediksi risk rating data pengajuan baru."
   ]
  },
  {
   "cell_type": "markdown",
   "metadata": {
    "Collapsed": "false"
   },
   "source": [
    "## What Next?\n",
    "\n",
    "Walaupun cukup banyak konsep dan implementasi dari course ini yang bisa langsung Anda terapkan untuk kasus credit rating di tempat Anda. Namun ada banyak catatan bagi Anda agar lebih baik menggunakan model ini, yaitu:\n",
    "\n",
    "- Pada kenyataannya, variable yang terlibat jauh lebih banyak dan kadang masih dalam bentuk yang kosong, tidak lengkap atau tidak standar. Ini memerlukan teknik **data cleansing** yang juga telah tersedia di DQLab.\n",
    "- Variable yang sangat banyak ini perlu diambil yang korelasinya tinggi saja. Tidak keseluruhan karena akan mengakibatkan pembentukan model tidak optimal. Teknik ini disebut **data reduction** atau **feature selection**, atau kalau lebih luas ilmunya mencakup apa yang dinamakan feature engineering. Ini akan dibahas pada course lain.\n",
    "- Evaluasi model yang juga umum dan menjadi best practice adalah menggunakan visualisasi **ROC Curve**. Ini kami putuskan untuk dijadikan short course lanjutan setelah decision tree ini.\n",
    "- Terakhir, Anda perlu lebih banyak latihan dan praktek menangani berbagai kasus mengenai pembentukan model decision tree terutama untuk credit risk ini.  Ini akan secara regular kami berikan dalam bentuk project atau data challenge dari partner kami.\n"
   ]
  },
  {
   "cell_type": "code",
   "execution_count": null,
   "metadata": {
    "Collapsed": "false"
   },
   "outputs": [],
   "source": []
  }
 ],
 "metadata": {
  "kernelspec": {
   "display_name": "R",
   "language": "R",
   "name": "ir"
  },
  "language_info": {
   "codemirror_mode": "r",
   "file_extension": ".r",
   "mimetype": "text/x-r-source",
   "name": "R",
   "pygments_lexer": "r",
   "version": "3.6.1"
  },
  "toc-autonumbering": true
 },
 "nbformat": 4,
 "nbformat_minor": 4
}
